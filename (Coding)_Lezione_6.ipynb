{
  "cells": [
    {
      "cell_type": "markdown",
      "source": [
        "#Analisi dei dati ( Libreria PANDAS ) - Pokemon"
      ],
      "metadata": {
        "id": "WNDufv5DlJH2"
      }
    },
    {
      "cell_type": "markdown",
      "source": [
        "Pandas è una libreria Python utilizzata per l'analisi dei dati. Permette di lavorare facilmente con dati organizzati in tabelle (come un foglio di calcolo Excel)."
      ],
      "metadata": {
        "id": "YkcxgxIRlS2B"
      }
    },
    {
      "cell_type": "code",
      "source": [
        "import pandas as pd # Importiamo il pacchetto"
      ],
      "metadata": {
        "id": "xDghIUBdlW4P"
      },
      "execution_count": null,
      "outputs": []
    },
    {
      "cell_type": "code",
      "source": [
        "# Scarica il dataset direttamente da Internet\n",
        "url = \"https://raw.githubusercontent.com/KeithGalli/pandas/master/pokemon_data.csv\"\n",
        "df = pd.read_csv(url)  #Abbiamo definito con df il nostro file excel , e lo leggiamo con la funzione read_csv (Comma-separated values) del pacchetto pandas (pd)\n",
        "\n",
        "# Visualizza le prime righe del dataset\n",
        "print(df.head())"
      ],
      "metadata": {
        "id": "uWd2aOSwlSpz"
      },
      "execution_count": null,
      "outputs": []
    },
    {
      "cell_type": "code",
      "source": [
        "# Seleziona solo i Pokémon leggendari\n",
        "leggendari = df[df['Legendary'] == True]\n",
        "print(leggendari[['Name', 'Type 1', 'Generation', 'Legendary']].head(30))"
      ],
      "metadata": {
        "id": "szgBdY9slR5t"
      },
      "execution_count": null,
      "outputs": []
    },
    {
      "cell_type": "markdown",
      "source": [
        "Vediamo in un grafico a barre il numero di pokemon \"Type 1\" in base al loro tipo"
      ],
      "metadata": {
        "id": "zwKQmussnMpT"
      }
    },
    {
      "cell_type": "code",
      "source": [
        "import matplotlib.pyplot as plt\n",
        "\n",
        "# Conta i tipi di Pokémon di 'Type 1'\n",
        "tipo_pokemon = df['Type 1'].value_counts()\n",
        "\n",
        "# Crea un grafico a barre\n",
        "plt.figure(figsize=(10,6))\n",
        "tipo_pokemon.plot(kind='bar', color='skyblue')\n",
        "plt.title('Numero di Pokémon per Tipo Primario')\n",
        "plt.xlabel('Tipo')\n",
        "plt.ylabel('Conteggio')\n",
        "plt.xticks(rotation=45)\n",
        "plt.show()"
      ],
      "metadata": {
        "id": "O0KCEzzZl5PL"
      },
      "execution_count": null,
      "outputs": []
    },
    {
      "cell_type": "markdown",
      "source": [
        "Proviamo a creare un grafico a torta per visualizzare il numero di pokemon per ciascuna generazione"
      ],
      "metadata": {
        "id": "ZFejDCX6nL5_"
      }
    },
    {
      "cell_type": "code",
      "source": [
        "# Conta i Pokémon per generazione\n",
        "conteggio_generazione = df['Generation'].value_counts()\n",
        "print(conteggio_generazione)\n",
        "\n",
        "# Crea un grafico a torta\n",
        "plt.figure(figsize=(8,6))\n",
        "plt.pie(conteggio_generazione, labels=conteggio_generazione.index, autopct='%1.1f%%', startangle=90, colors=plt.cm.Paired.colors)\n",
        "plt.title('Distribuzione dei Pokémon per Generazione')\n",
        "plt.show()"
      ],
      "metadata": {
        "id": "gR-9YSClm9oM"
      },
      "execution_count": null,
      "outputs": []
    },
    {
      "cell_type": "markdown",
      "source": [
        "Visualizziamo quanti leggendari ci sono per ogni generazione"
      ],
      "metadata": {
        "id": "KJhfacoHoqIx"
      }
    },
    {
      "cell_type": "code",
      "source": [
        "# Conta i Pokémon leggendari per generazione\n",
        "leggendari_per_generazione = df[df['Legendary'] == True]['Generation'].value_counts().sort_index()\n",
        "\n",
        "# Crea un grafico a barre\n",
        "plt.figure(figsize=(8, 6))\n",
        "plt.bar(leggendari_per_generazione.index, leggendari_per_generazione.values, color='purple')\n",
        "plt.xlabel('Generazione')\n",
        "plt.ylabel('Numero di Pokémon Leggendari')\n",
        "plt.title('Distribuzione dei Pokémon Leggendari per Generazione')\n",
        "plt.show()"
      ],
      "metadata": {
        "id": "Q4jXnqYMojA9"
      },
      "execution_count": null,
      "outputs": []
    },
    {
      "cell_type": "code",
      "source": [
        "#Esercizio. Conta il numero di pokemon leggendari e visualizzalo in un grafico a torta"
      ],
      "metadata": {
        "id": "ZRqA3biInE9T"
      },
      "execution_count": null,
      "outputs": []
    },
    {
      "cell_type": "markdown",
      "source": [
        "Per esempio, potremmo voler visualizzare i pokemon di tipo fuoco più veloci"
      ],
      "metadata": {
        "id": "YT-vVkSImhTH"
      }
    },
    {
      "cell_type": "code",
      "source": [
        "# Filtra i Pokémon di tipo \"Fire\" e ordina per velocità (Speed)\n",
        "piu_veloci_fuoco = df[df['Type 1'] == 'Fire'].sort_values('Speed', ascending=False).head(5)\n",
        "print(piu_veloci_fuoco[['Name', 'Speed']])"
      ],
      "metadata": {
        "id": "lDR9FLrZmlnd"
      },
      "execution_count": null,
      "outputs": []
    },
    {
      "cell_type": "code",
      "source": [
        "#Esercizio. Trova i primi 5 Pokémon più lenti di tipo \"Water\"."
      ],
      "metadata": {
        "id": "sC5TTGM8my1I"
      },
      "execution_count": null,
      "outputs": []
    },
    {
      "cell_type": "markdown",
      "source": [
        "#Esempi (Progetti)"
      ],
      "metadata": {
        "id": "ZTmc7xlElFot"
      }
    },
    {
      "cell_type": "markdown",
      "metadata": {
        "id": "fLjeAEmf4kHG"
      },
      "source": [
        "##Esempio (difficile): Forza quattro"
      ]
    },
    {
      "cell_type": "markdown",
      "metadata": {
        "id": "03aM2jDX4op1"
      },
      "source": [
        "Il gioco [forza quattro](https://https://it.wikipedia.org/wiki/Forza_quattro) si gioca tra due giocatori, che inseriscono una pedina in verticale e hanno l'obiettivo di accumulare quattro pedine di fila in orizzontale, verticale o diagonale."
      ]
    },
    {
      "cell_type": "code",
      "execution_count": null,
      "metadata": {
        "id": "rwsR5bOs382T"
      },
      "outputs": [],
      "source": [
        "import numpy as np\n",
        "\n",
        "# Inizializza il tabellone\n",
        "NUM_RIGHE = 6\n",
        "NUM_COLONNE = 7\n",
        "VUOTO = 0\n",
        "GIOCATORE_1 = 1\n",
        "GIOCATORE_2 = 2\n",
        "\n",
        "# Crea un tabellone vuoto\n",
        "tabellone = np.zeros((NUM_RIGHE, NUM_COLONNE), int)\n",
        "\n",
        "# Funzione per stampare il tabellone\n",
        "def stampa_tabellone(tabellone):\n",
        "    print(np.flip(tabellone, 0))\n",
        "\n",
        "# Funzione per verificare se una colonna è valida per un mossa\n",
        "def colonna_valida(tabellone, colonna):\n",
        "    return tabellone[NUM_RIGHE - 1][colonna] == VUOTO\n",
        "\n",
        "# Funzione per ottenere la prossima riga disponibile in una colonna\n",
        "def prossima_riga_disponibile(tabellone, colonna):\n",
        "    for r in range(NUM_RIGHE):\n",
        "        if tabellone[r][colonna] == VUOTO:\n",
        "            return r\n",
        "\n",
        "# Funzione per inserire una pedina nel tabellone\n",
        "def inserisci_pedina(tabellone, riga, colonna, pedina):\n",
        "    tabellone[riga][colonna] = pedina\n",
        "\n",
        "# Funzione per verificare se un giocatore ha vinto\n",
        "def mossa_vincente(tabellone, pedina):\n",
        "    # Controlla le righe orizzontali per una vittoria\n",
        "    for c in range(NUM_COLONNE - 3):\n",
        "        for r in range(NUM_RIGHE):\n",
        "            if tabellone[r][c] == pedina and tabellone[r][c+1] == pedina and tabellone[r][c+2] == pedina and tabellone[r][c+3] == pedina:\n",
        "                return True\n",
        "\n",
        "    # Controlla le colonne verticali per una vittoria\n",
        "    for c in range(NUM_COLONNE):\n",
        "        for r in range(NUM_RIGHE - 3):\n",
        "            if tabellone[r][c] == pedina and tabellone[r+1][c] == pedina and tabellone[r+2][c] == pedina and tabellone[r+3][c] == pedina:\n",
        "                return True\n",
        "\n",
        "    # Controlla le diagonali in salita (positivamente inclinate)\n",
        "    for c in range(NUM_COLONNE - 3):\n",
        "        for r in range(NUM_RIGHE - 3):\n",
        "            if tabellone[r][c] == pedina and tabellone[r+1][c+1] == pedina and tabellone[r+2][c+2] == pedina and tabellone[r+3][c+3] == pedina:\n",
        "                return True\n",
        "\n",
        "    # Controlla le diagonali in discesa (negativamente inclinate)\n",
        "    for c in range(NUM_COLONNE - 3):\n",
        "        for r in range(3, NUM_RIGHE):\n",
        "            if tabellone[r][c] == pedina and tabellone[r-1][c+1] == pedina and tabellone[r-2][c+2] == pedina and tabellone[r-3][c+3] == pedina:\n",
        "                return True\n",
        "\n",
        "    return False\n",
        "\n",
        "# Funzione per giocare a Connect 4\n",
        "def gioca_partita():\n",
        "    partita_finite = False\n",
        "    turno = 0\n",
        "    while not partita_finite:\n",
        "        # Stampa il tabellone\n",
        "        stampa_tabellone(tabellone)\n",
        "\n",
        "        # Chiedi al giocatore corrente la sua mossa\n",
        "        if turno % 2 == 0:\n",
        "            colonna = int(input(\"Giocatore 1 (X), scegli una colonna (0-6): \"))\n",
        "            pedina = GIOCATORE_1\n",
        "        else:\n",
        "            colonna = int(input(\"Giocatore 2 (O), scegli una colonna (0-6): \"))\n",
        "            pedina = GIOCATORE_2\n",
        "\n",
        "        # Verifica se la colonna scelta è valida\n",
        "        if colonna_valida(tabellone, colonna):\n",
        "            riga = prossima_riga_disponibile(tabellone, colonna)\n",
        "            inserisci_pedina(tabellone, riga, colonna, pedina)\n",
        "\n",
        "            # Verifica se il giocatore corrente ha vinto\n",
        "            if mossa_vincente(tabellone, pedina):\n",
        "                stampa_tabellone(tabellone)\n",
        "                if pedina == GIOCATORE_1:\n",
        "                    print(\"Giocatore 1 (X) ha vinto!\")\n",
        "                else:\n",
        "                    print(\"Giocatore 2 (O) ha vinto!\")\n",
        "                partita_finite = True\n",
        "        else:\n",
        "            print(\"Colonna piena! Scegli un'altra colonna.\")\n",
        "\n",
        "        # Alterna i turni\n",
        "        turno += 1\n",
        "\n",
        "# Inizia la partita\n",
        "if __name__ == \"__main__\":\n",
        "    gioca_partita()"
      ]
    },
    {
      "cell_type": "markdown",
      "source": [
        "##Simulazioni fisica"
      ],
      "metadata": {
        "id": "CqJGVSqXmVGf"
      }
    },
    {
      "cell_type": "code",
      "source": [
        "import numpy as np\n",
        "import matplotlib.pyplot as plt\n",
        "\n",
        "# Bouncing Ball Simulation\n",
        "g = 9.81  # Gravity (m/s^2)\n",
        "dt = 0.02  # Time step\n",
        "coefficient_of_restitution = 0.8  # Energy loss per bounce\n",
        "\n",
        "# Initial conditions\n",
        "y = 3  # Initial height\n",
        "v = 0  # Initial velocity\n",
        "time = 0\n",
        "\n",
        "y_vals = []\n",
        "t_vals = []\n",
        "\n",
        "while time < 10:\n",
        "    v += -g * dt  # Update velocity\n",
        "    y += v * dt  # Update position\n",
        "\n",
        "    if y <= 0:  # Bounce condition\n",
        "        y = 0\n",
        "        v = -v * coefficient_of_restitution  # Energy loss on bounce\n",
        "\n",
        "    y_vals.append(y)\n",
        "    t_vals.append(time)\n",
        "    time += dt\n",
        "\n",
        "plt.figure(figsize=(6, 4))\n",
        "plt.plot(t_vals, y_vals)\n",
        "plt.xlabel(\"Time (s)\")\n",
        "plt.ylabel(\"Height (m)\")\n",
        "plt.title(\"Bouncing Ball Simulation\")\n",
        "plt.show()"
      ],
      "metadata": {
        "id": "tDYB3GfUmTzQ"
      },
      "execution_count": null,
      "outputs": []
    },
    {
      "cell_type": "code",
      "source": [
        "import numpy as np\n",
        "import matplotlib.pyplot as plt\n",
        "\n",
        "# Optics Ray Tracer\n",
        "def plot_optics():\n",
        "    fig, ax = plt.subplots()\n",
        "    ax.set_xlim(-5, 5)\n",
        "    ax.set_ylim(-3, 3)\n",
        "    ax.axhline(y=0, color='k', linestyle='--', label='Mirror')\n",
        "\n",
        "    # Incoming ray\n",
        "    x1, y1 = -4, 2\n",
        "    x2, y2 = 0, 0  # Intersection with the mirror\n",
        "    ax.plot([x1, x2], [y1, y2], 'r-', label='Incoming Ray')\n",
        "\n",
        "    # Reflected ray (assuming equal angle of reflection)\n",
        "    x3, y3 = 4, -2\n",
        "    ax.plot([x2, x3], [y2, y3], 'b-', label='Reflected Ray')\n",
        "\n",
        "    ax.legend()\n",
        "    plt.title(\"Optics Ray Reflection\")\n",
        "    plt.show()\n",
        "\n",
        "plot_optics()\n"
      ],
      "metadata": {
        "id": "sidPlYnFCMoO"
      },
      "execution_count": null,
      "outputs": []
    },
    {
      "cell_type": "markdown",
      "source": [
        "##Esempio WordCloud"
      ],
      "metadata": {
        "id": "pEsEdJ8BCuly"
      }
    },
    {
      "cell_type": "code",
      "source": [
        "import matplotlib.pyplot as plt\n",
        "from wordcloud import WordCloud\n",
        "\n",
        "\n",
        "def generate_wordcloud(text):\n",
        "    \"\"\"Creates a word cloud from a given text.\"\"\"\n",
        "    wordcloud = WordCloud(width=800, height=400, background_color='white').generate(text)\n",
        "    plt.figure(figsize=(10, 5))\n",
        "    plt.imshow(wordcloud, interpolation='bilinear')\n",
        "    plt.axis(\"off\")\n",
        "    plt.show()\n",
        "\n",
        "\n",
        "def summarize_text(text, num_sentences=3):\n",
        "    \"\"\"Summarizes text by extracting key sentences.\"\"\"\n",
        "    sentences = text.split('. ')\n",
        "    summary = '. '.join(sentences[:num_sentences])\n",
        "    return summary + ('.' if len(sentences) > num_sentences else '')\n",
        "\n",
        "\n",
        "text = \"Python is a widely used high-level programming language. It is known for its readability and simplicity. Many developers use Python for web development, data analysis, and artificial intelligence. The language supports multiple programming paradigms and has a large community. Python is open-source and has extensive libraries.\"\n",
        "summary = summarize_text(text)\n",
        "print(\"Summary:\", summary)\n",
        "\n",
        "# Generate Word Cloud\n",
        "generate_wordcloud(text)\n"
      ],
      "metadata": {
        "id": "IjelnDjcn6Vr"
      },
      "execution_count": null,
      "outputs": []
    },
    {
      "cell_type": "code",
      "source": [
        "import requests\n",
        "import matplotlib.pyplot as plt\n",
        "from wordcloud import WordCloud, STOPWORDS\n",
        "\n",
        "def fetch_text(url):\n",
        "    \"\"\"Fetches text from the given URL.\"\"\"\n",
        "    response = requests.get(url)\n",
        "    if response.status_code == 200:\n",
        "        return response.text\n",
        "    else:\n",
        "        return None\n",
        "\n",
        "def generate_wordcloud(text):\n",
        "    \"\"\"Creates a word cloud from the given text, excluding stopwords and additional custom words.\"\"\"\n",
        "    custom_stopwords = STOPWORDS.union({\"will\", \"may\", \"shall\", \"must\", \"might\", \"one\", \"upon\", \"thou\", \"thee\", \"thy\", \"hath\", \"hast\", \"now\"})\n",
        "    wordcloud = WordCloud(width=1600, height=800, background_color='white', max_words=500, stopwords=custom_stopwords).generate(text)\n",
        "    plt.figure(figsize=(16, 8))\n",
        "    plt.imshow(wordcloud, interpolation='bilinear')\n",
        "    plt.axis(\"off\")\n",
        "    plt.show()\n",
        "\n",
        "# URL of Shakespeare's \"Hamlet\" from Project Gutenberg\n",
        "url = \"https://www.gutenberg.org/files/100/100-0.txt\" #hamlet\n",
        "\n",
        "\n",
        "# Fetch the text\n",
        "text = fetch_text(url)\n",
        "\n",
        "if text:\n",
        "    # Extract the portion of the text corresponding to \"Hamlet\"\n",
        "    start_marker = \"*** START OF THIS PROJECT GUTENBERG EBOOK THE COMPLETE WORKS OF WILLIAM SHAKESPEARE ***\"\n",
        "    end_marker = \"*** END OF THIS PROJECT GUTENBERG EBOOK THE COMPLETE WORKS OF WILLIAM SHAKESPEARE ***\"\n",
        "\n",
        "    start_index = text.find(start_marker) + len(start_marker)\n",
        "    end_index = text.find(end_marker)\n",
        "    hamlet_text = text[start_index:end_index]\n",
        "\n",
        "    # Generate word cloud for \"Hamlet\"\n",
        "    generate_wordcloud(hamlet_text)\n",
        "else:\n",
        "    print(\"Failed to retrieve the text.\")\n"
      ],
      "metadata": {
        "id": "chkq-ROopWSh"
      },
      "execution_count": null,
      "outputs": []
    }
  ],
  "metadata": {
    "colab": {
      "provenance": [],
      "collapsed_sections": [
        "WNDufv5DlJH2",
        "fLjeAEmf4kHG",
        "CqJGVSqXmVGf",
        "pEsEdJ8BCuly"
      ]
    },
    "kernelspec": {
      "display_name": "Python 3",
      "name": "python3"
    },
    "language_info": {
      "name": "python"
    }
  },
  "nbformat": 4,
  "nbformat_minor": 0
}