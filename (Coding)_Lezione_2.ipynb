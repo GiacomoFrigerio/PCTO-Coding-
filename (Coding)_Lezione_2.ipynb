{
  "cells": [
    {
      "cell_type": "markdown",
      "source": [
        "Esercizi di ripasso."
      ],
      "metadata": {
        "id": "327mubhRbJn9"
      },
      "id": "327mubhRbJn9"
    },
    {
      "cell_type": "code",
      "source": [
        "#Esercizio. Crea una funzione che calcola l'area di un cerchio a partire dal raggio"
      ],
      "metadata": {
        "id": "nyjEErgabJOn"
      },
      "id": "nyjEErgabJOn",
      "execution_count": null,
      "outputs": []
    },
    {
      "cell_type": "code",
      "source": [
        "#Esercizio Crea una funzione che ti calcola le soluzioni di una equazione di secondo grado, in cui fornisci i valori di a,b e c."
      ],
      "metadata": {
        "id": "MsdYkcHXbTQJ"
      },
      "id": "MsdYkcHXbTQJ",
      "execution_count": null,
      "outputs": []
    },
    {
      "cell_type": "code",
      "source": [
        "#Esercizio. Crea una funzione che trasformi le miglia in chilometri"
      ],
      "metadata": {
        "id": "ssIJVwddbTNZ"
      },
      "id": "ssIJVwddbTNZ",
      "execution_count": null,
      "outputs": []
    },
    {
      "cell_type": "markdown",
      "id": "da0f4ea5",
      "metadata": {
        "id": "da0f4ea5"
      },
      "source": [
        "#Operatori logici, cicli e Condizioni (if, for)\n",
        "\n",
        "In questa lezione ci concentreremo sull'utilizzo di **cicli** (for) e  **condizioni** (if, while).\n",
        "Questi concetti sono fondamentali per rendere il codice Python più potente e flessibile, permettendo di automatizzare attività ripetitive.\n"
      ]
    },
    {
      "cell_type": "markdown",
      "source": [
        "#Operatori logici"
      ],
      "metadata": {
        "id": "PHeXAsnUi-mT"
      },
      "id": "PHeXAsnUi-mT"
    },
    {
      "cell_type": "markdown",
      "source": [
        "Introduciamo gli operatori logici.  \\\\\n",
        "Questi operatori restituiscono valore bool, ovvero **vero** o **falso**."
      ],
      "metadata": {
        "id": "uh2pw9aUjASr"
      },
      "id": "uh2pw9aUjASr"
    },
    {
      "cell_type": "markdown",
      "source": [
        "Vogliamo verificare se un determinato numero è maggiore di un altro"
      ],
      "metadata": {
        "id": "fAWil67Njeij"
      },
      "id": "fAWil67Njeij"
    },
    {
      "cell_type": "code",
      "source": [
        "prezzo = 12\n",
        "print(prezzo < 10)"
      ],
      "metadata": {
        "id": "YyvhzzLyi_4w"
      },
      "id": "YyvhzzLyi_4w",
      "execution_count": null,
      "outputs": []
    },
    {
      "cell_type": "code",
      "source": [
        "print(prezzo > 10)"
      ],
      "metadata": {
        "id": "S5jJys05jUrE"
      },
      "id": "S5jJys05jUrE",
      "execution_count": null,
      "outputs": []
    },
    {
      "cell_type": "markdown",
      "source": [
        "Possiamo estenderlo a due condizioni, come ad esempio verificare se un numero è compreso tra altri due. Per farlo, verifichiamo che entrambi le richieste siano veri con l'operatore **and**."
      ],
      "metadata": {
        "id": "R_VYA5rNjidX"
      },
      "id": "R_VYA5rNjidX"
    },
    {
      "cell_type": "code",
      "source": [
        "età = 21\n",
        "print(età > 10 and età < 20)"
      ],
      "metadata": {
        "id": "1ifVvcDqjXja"
      },
      "id": "1ifVvcDqjXja",
      "execution_count": null,
      "outputs": []
    },
    {
      "cell_type": "markdown",
      "source": [
        "Possiamo fare lo stesso con un altro operatore, **or**.\n",
        "\n",
        "Questo operatore verifica che sia soddisfatta almeno una delle condizioni."
      ],
      "metadata": {
        "id": "aAbKcsWZj3l0"
      },
      "id": "aAbKcsWZj3l0"
    },
    {
      "cell_type": "code",
      "source": [
        "nome = \"Paolo\"\n",
        "print(nome == \"Paolo\" or nome == \"Anna\")"
      ],
      "metadata": {
        "id": "korC6C1ckHsZ"
      },
      "id": "korC6C1ckHsZ",
      "execution_count": null,
      "outputs": []
    },
    {
      "cell_type": "markdown",
      "source": [
        "Abbiamo utilizzato == , che verifica se una variabile è uguale all'altra."
      ],
      "metadata": {
        "id": "z1658MxUkRQz"
      },
      "id": "z1658MxUkRQz"
    },
    {
      "cell_type": "code",
      "source": [
        "nome = \"Luigi\"\n",
        "print(nome == \"Paolo\" or nome == \"Anna\")"
      ],
      "metadata": {
        "id": "Cr7nf1kikYYQ"
      },
      "id": "Cr7nf1kikYYQ",
      "execution_count": null,
      "outputs": []
    },
    {
      "cell_type": "markdown",
      "source": [
        "Per ultimo, possiamo introdurre l'operatore **not**.\n",
        "Questo operatore restituisce *True* se la condizione non è quella fornita. Vediamo qualche esempio"
      ],
      "metadata": {
        "id": "3kToUAvemLSN"
      },
      "id": "3kToUAvemLSN"
    },
    {
      "cell_type": "code",
      "source": [
        "età = 16\n",
        "print(not età == 16)\n",
        "\n",
        "#prova ora a cambiare numero e verifica cosa succede"
      ],
      "metadata": {
        "id": "r2FsxBwemVI5"
      },
      "id": "r2FsxBwemVI5",
      "execution_count": null,
      "outputs": []
    },
    {
      "cell_type": "markdown",
      "source": [
        "Ricapitolando, quindi, gli operatori logici verificano che una condizione sia soddisfatta.\n",
        "\n",
        "**And** (entrambe le condizioni)\n",
        "\n",
        "**Or** (almeno una delle condizioni)\n",
        "\n",
        "**Not** (nessuna delle condizioni)"
      ],
      "metadata": {
        "id": "rRQLEWzCkhao"
      },
      "id": "rRQLEWzCkhao"
    },
    {
      "cell_type": "markdown",
      "source": [
        "#Condizioni con If, Else e Elif\n",
        "Le condizioni in Python ci permettono di eseguire blocchi di codice solo se una determinata condizione è vera."
      ],
      "metadata": {
        "id": "socD2mT8fhiA"
      },
      "id": "socD2mT8fhiA"
    },
    {
      "cell_type": "code",
      "execution_count": null,
      "id": "53ff2206",
      "metadata": {
        "id": "53ff2206"
      },
      "outputs": [],
      "source": [
        "numero = -3\n",
        "if numero > 5:\n",
        "    print(\"Il numero è maggiore di 5\")\n",
        "else:\n",
        "    print(\"Il numero è minore o uguale a 5\")"
      ]
    },
    {
      "cell_type": "code",
      "source": [
        "età = int(input(\"Quanti anni hai? \"))\n",
        "if età >= 18:\n",
        "    print(\"Sei un adulto\")\n",
        "else:\n",
        "    print(\"Non sei ancora un adulto\")"
      ],
      "metadata": {
        "id": "3u9zFWNucnUR"
      },
      "id": "3u9zFWNucnUR",
      "execution_count": null,
      "outputs": []
    },
    {
      "cell_type": "markdown",
      "source": [
        "Oltre a if e else, possiamo ipotizzare di avere tre (o più) scenari diversi. \\\\\n",
        "\n",
        "Il caso 1 (utilizziamo if inizialmente)  \\\\\n",
        "Il caso 2 (utilizziamo elif) \\\\\n",
        "Il caso 3 (utilizziamo else)"
      ],
      "metadata": {
        "id": "RLYiFRVyhJGW"
      },
      "id": "RLYiFRVyhJGW"
    },
    {
      "cell_type": "code",
      "source": [
        "numero = int(input(\"Inserisci un numero: \"))\n",
        "if numero > 0:\n",
        "    print(\"Il numero è positivo\")\n",
        "elif numero < 0:\n",
        "    print(\"Il numero è negativo\")\n",
        "else:\n",
        "    print(\"Il numero è zero\")"
      ],
      "metadata": {
        "id": "qdN_9yGjcyGX"
      },
      "id": "qdN_9yGjcyGX",
      "execution_count": null,
      "outputs": []
    },
    {
      "cell_type": "markdown",
      "source": [
        "In questo caso, abbiamo utilizzato **and**. Ricorda che la proposizione **and** verifica che entrambe le condizioni siano soddisfatte.  "
      ],
      "metadata": {
        "id": "XXKZg2kNg2lq"
      },
      "id": "XXKZg2kNg2lq"
    },
    {
      "cell_type": "code",
      "source": [
        "# Controlla che un numero sia contemporaneamente divisibile per due numeri\n",
        "number = 18\n",
        "\n",
        "if number % 2 == 0 and number % 3 == 0:\n",
        "    print(f\"{number} è divisibile per due e per tre.\")\n",
        "else:\n",
        "    print(f\"{number} non è divisibile per due e per tre.\")"
      ],
      "metadata": {
        "id": "dcDLo0fCgpMd"
      },
      "id": "dcDLo0fCgpMd",
      "execution_count": null,
      "outputs": []
    },
    {
      "cell_type": "code",
      "source": [
        "#Controlla se la password è corretta\n",
        "password_corretta = \"python123\"\n",
        "password_input = input(\"Inserisci la password: \")\n",
        "\n",
        "if password_input == password_corretta:\n",
        "    print(\"Password corretta\")\n",
        "else:\n",
        "    print(\"Password errata\")"
      ],
      "metadata": {
        "id": "dIaNBrKhdnGN"
      },
      "id": "dIaNBrKhdnGN",
      "execution_count": null,
      "outputs": []
    },
    {
      "cell_type": "code",
      "source": [
        "# Check if the username matches\n",
        "username = \"admin\"\n",
        "\n",
        "if username == \"admin\":\n",
        "    print(\"Welcome, admin!\")\n",
        "else:\n",
        "    print(\"Invalid username.\")"
      ],
      "metadata": {
        "id": "G7_s03c1f5Z6"
      },
      "id": "G7_s03c1f5Z6",
      "execution_count": null,
      "outputs": []
    },
    {
      "cell_type": "code",
      "source": [
        "#Esercizio (svolto).\n",
        "#Sei in un negozio per comprare una maglietta ad un amico e sai che il suo colore preferito è il nero.\n",
        "#La sua taglia è la M, ma anche una taglia in più andrebbe bene."
      ],
      "metadata": {
        "id": "iw_cRGTaQVX5"
      },
      "id": "iw_cRGTaQVX5",
      "execution_count": null,
      "outputs": []
    },
    {
      "cell_type": "code",
      "source": [
        "#Esercizio. Crea una funzione che verifica se un numero (fornito dall'utente) è maggiore di 50 e pari"
      ],
      "metadata": {
        "id": "JGbs9uTxd_rp"
      },
      "id": "JGbs9uTxd_rp",
      "execution_count": null,
      "outputs": []
    },
    {
      "cell_type": "code",
      "source": [
        "#Esercizio. Crea una funzione che verifica se uno studente è un teenager (età tra 13 e 19 anni), fornendo l'età"
      ],
      "metadata": {
        "id": "gDU9d68AgX9Q"
      },
      "id": "gDU9d68AgX9Q",
      "execution_count": null,
      "outputs": []
    },
    {
      "cell_type": "markdown",
      "source": [
        "Vediamo altri esempi più complessi, combinando operatori logici e lo statement if"
      ],
      "metadata": {
        "id": "aKiCgkvplm5j"
      },
      "id": "aKiCgkvplm5j"
    },
    {
      "cell_type": "markdown",
      "source": [
        "Ipotizziamo che vogliamo verificare se qualcuno può usufruire di una offerta. Per farlo, deve essere un cliente e inoltre aver speso almeno 150 €"
      ],
      "metadata": {
        "id": "-d1EHigUlsHz"
      },
      "id": "-d1EHigUlsHz"
    },
    {
      "cell_type": "code",
      "source": [
        "# Check if the person can receive the special offer\n",
        "cliente = False #boolean\n",
        "amount_spent = 150\n",
        "\n",
        "if cliente and amount_spent > 100:\n",
        "    print(\"You qualify for the special offer!\")\n",
        "elif not cliente and amount_spent > 200:\n",
        "    print(\"You qualify for the special offer!\")\n",
        "else:\n",
        "    print(\"You do not qualify for the special offer.\")"
      ],
      "metadata": {
        "id": "cadLVf2tlq8p"
      },
      "id": "cadLVf2tlq8p",
      "execution_count": null,
      "outputs": []
    },
    {
      "cell_type": "markdown",
      "id": "2e2e5f01",
      "metadata": {
        "id": "2e2e5f01"
      },
      "source": [
        "\n",
        "# Cicli For\n",
        "\n",
        "I cicli **for** ci permettono di ripetere un blocco di codice per ogni elemento di una sequenza. Ad esempio, possiamo stampare tutti i numeri da 0 a 4 usando `range()`.\n"
      ]
    },
    {
      "cell_type": "code",
      "source": [
        "print(1)\n",
        "print(2)\n",
        "print(3)\n",
        "print(4)\n",
        "print(5)"
      ],
      "metadata": {
        "id": "kssOwIjITbmA"
      },
      "id": "kssOwIjITbmA",
      "execution_count": null,
      "outputs": []
    },
    {
      "cell_type": "code",
      "execution_count": null,
      "id": "a1903500",
      "metadata": {
        "id": "a1903500"
      },
      "outputs": [],
      "source": [
        "for i in range(5):\n",
        "    print(\"Giacomo\")\n",
        "#Ricorda che python inizia a contare da 0"
      ]
    },
    {
      "cell_type": "markdown",
      "source": [
        "Possiamo anche stampare i caratteri di una parola"
      ],
      "metadata": {
        "id": "m7qHBThWqlIv"
      },
      "id": "m7qHBThWqlIv"
    },
    {
      "cell_type": "code",
      "source": [
        "word = \"ciao\"\n",
        "for char in word:\n",
        "  print(char)"
      ],
      "metadata": {
        "id": "Spvm3qP_qkXP",
        "colab": {
          "base_uri": "https://localhost:8080/"
        },
        "outputId": "c3013e0d-4fd4-4af7-da04-ee08b8590fe4"
      },
      "id": "Spvm3qP_qkXP",
      "execution_count": null,
      "outputs": [
        {
          "output_type": "stream",
          "name": "stdout",
          "text": [
            "c\n",
            "i\n",
            "a\n",
            "o\n"
          ]
        }
      ]
    },
    {
      "cell_type": "markdown",
      "source": [
        "Possiamo fare anche cose più complesse, come calcolare un fattoriale.\n",
        "Un fattoriale, in matematica, si scrive come:\n",
        "$$ n! = n (n-1) (n-2) ... 1 $$\n",
        "\n",
        "Ovvero, per esempio,\n",
        "$$ 5! = 5 * 4 * 3 * 2 * 1 $$"
      ],
      "metadata": {
        "id": "CrtuAe2Xq3T5"
      },
      "id": "CrtuAe2Xq3T5"
    },
    {
      "cell_type": "code",
      "source": [
        "numero = 8 #voglio calcolare il fattoriale di 5\n",
        "fattoriale = 1 #valore iniziale del fattoriale\n",
        "\n",
        "for i in range(1, numero + 1): #facciamo contare da 1 a 5\n",
        "    fattoriale  = i * fattoriale\n",
        "print(fattoriale)"
      ],
      "metadata": {
        "id": "wof7-r4prFtR",
        "colab": {
          "base_uri": "https://localhost:8080/"
        },
        "outputId": "b4de5a6c-4fbd-491d-ea86-1808b249c5de"
      },
      "id": "wof7-r4prFtR",
      "execution_count": null,
      "outputs": [
        {
          "output_type": "stream",
          "name": "stdout",
          "text": [
            "40320\n"
          ]
        }
      ]
    },
    {
      "cell_type": "code",
      "source": [
        "#Esercizio: definisci una funzione che calcoli il fattoriale di un numero (fornito alla funzione)"
      ],
      "metadata": {
        "id": "wzZI4OIuroU9"
      },
      "id": "wzZI4OIuroU9",
      "execution_count": null,
      "outputs": []
    }
  ],
  "metadata": {
    "colab": {
      "provenance": []
    },
    "language_info": {
      "name": "python"
    },
    "kernelspec": {
      "name": "python3",
      "display_name": "Python 3"
    }
  },
  "nbformat": 4,
  "nbformat_minor": 5
}