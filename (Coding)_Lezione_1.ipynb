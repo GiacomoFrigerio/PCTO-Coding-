{
  "nbformat": 4,
  "nbformat_minor": 0,
  "metadata": {
    "colab": {
      "provenance": []
    },
    "kernelspec": {
      "name": "python3",
      "display_name": "Python 3"
    },
    "language_info": {
      "name": "python"
    }
  },
  "cells": [
    {
      "cell_type": "markdown",
      "source": [
        "Il seguente notebook è stato scritto dal prof. Giacomo Frigerio per gli studenti del Liceo B. Cairoli partecipanti al PCTO \"Coding e Programmazione\", a.s. 2024/2025."
      ],
      "metadata": {
        "id": "Mg81pfQdg_rI"
      }
    },
    {
      "cell_type": "markdown",
      "source": [
        "Importante:\n",
        "- Non imparare a memoria!\n",
        "- Prima di eseguire una cella, cerca di anticipare quale sarà l'output\n",
        "- Esercitati e mettiti alla prova il più possibile! Se non ti alleni, dimenticherai quanto hai appreso!"
      ],
      "metadata": {
        "id": "JdOGP9eCLXE2"
      }
    },
    {
      "cell_type": "markdown",
      "source": [
        "#Introduzione a Python"
      ],
      "metadata": {
        "id": "wuJOAnTfndcK"
      }
    },
    {
      "cell_type": "markdown",
      "source": [
        "Colab è uno \"strumento\" offerto da google per lavorare al codice da web, collaborare su progetti e tante altre cose"
      ],
      "metadata": {
        "id": "ikQ3uxkEn8QP"
      }
    },
    {
      "cell_type": "markdown",
      "source": [
        "Colab offre due diverse \"categorie\" di inserimento: caselle di codice e caselle di testo."
      ],
      "metadata": {
        "id": "wgMjpPteoExX"
      }
    },
    {
      "cell_type": "markdown",
      "source": [
        "Questa è una casella di testo!"
      ],
      "metadata": {
        "id": "pHjtkCQ3oKlN"
      }
    },
    {
      "cell_type": "code",
      "source": [
        "#Questa è una casella di codice\n",
        "#Puoi eseguire il codice schiacciando il tasto a sinistra (tasto esegui)\n",
        "#In questo caso, il codice non restituirà nessun risultato, perchè non stiamo scrivendo codice ma lo stiamo commentando\n",
        "#Per commentare, è sufficiente inserire, prima del testo, il simbolo cancelletto #"
      ],
      "metadata": {
        "id": "rH4y8RS9oMYN"
      },
      "execution_count": null,
      "outputs": []
    },
    {
      "cell_type": "code",
      "source": [
        "#Questo è un codice che si può eseguire     <------------- COMMENTO\n",
        "3 + 2                                      #<------------- CODICE"
      ],
      "metadata": {
        "id": "3-MIGtmwop4j"
      },
      "execution_count": null,
      "outputs": []
    },
    {
      "cell_type": "markdown",
      "source": [
        "Dopo aver eseguito un codice, potrai leggere il risultato, ovvero l'OUTPUT, sul terminale"
      ],
      "metadata": {
        "id": "e7pLblzFo5gm"
      }
    },
    {
      "cell_type": "markdown",
      "source": [
        "##La funzione print()"
      ],
      "metadata": {
        "id": "kMVHtD7Anhy_"
      }
    },
    {
      "cell_type": "markdown",
      "source": [
        "All'interno dell'ambiente python esistono tantissime funzioni che ti permettono di fare diversi compiti."
      ],
      "metadata": {
        "id": "-u55qww1n60Z"
      }
    },
    {
      "cell_type": "markdown",
      "source": [
        "Una funzione $f$, nel codice, si inserisce nella forma\n",
        "\n",
        "$$ f (  argomento ) $$\n",
        "\n",
        "Per esempio\n",
        "\n",
        "$$ print(3+2)  $$\n",
        "\n",
        "La funzione che stiamo chiamando è print (stampa). \\\\\n",
        "L'argomento che deve eseguire (quindi in questo caso stampare sul terminale) è quello inserito tra parentesi (3+2)."
      ],
      "metadata": {
        "id": "bbucC8AxpWzN"
      }
    },
    {
      "cell_type": "markdown",
      "source": [
        "La prima funzione che introduciamo è la funzione PRINT"
      ],
      "metadata": {
        "id": "JG6R0YfSpTa1"
      }
    },
    {
      "cell_type": "code",
      "source": [
        "print(3+2)"
      ],
      "metadata": {
        "id": "rH8OrExspyN3"
      },
      "execution_count": null,
      "outputs": []
    },
    {
      "cell_type": "code",
      "source": [
        "print(\"Hello World!\")"
      ],
      "metadata": {
        "id": "wfnN0ba3npWt"
      },
      "execution_count": null,
      "outputs": []
    },
    {
      "cell_type": "code",
      "execution_count": null,
      "metadata": {
        "id": "A_86242jnQzj"
      },
      "outputs": [],
      "source": [
        "#Esercizio: stampa il tuo nome"
      ]
    },
    {
      "cell_type": "markdown",
      "source": [
        "Osserviamo quindi che, per stampare dei numeri, basta inserire i numeri stessi o eventuali operazioni. \\\\\n",
        "Per stampare una **stringa**, ovvero un input testuale, bisogna inserirlo tra virgolette."
      ],
      "metadata": {
        "id": "3gXobqVkqb8X"
      }
    },
    {
      "cell_type": "markdown",
      "source": [
        "##Variabili"
      ],
      "metadata": {
        "id": "YgWlRXlmra2_"
      }
    },
    {
      "cell_type": "markdown",
      "source": [
        "Vediamolo introducendo una variabile!\n",
        "Una variabile è un nome associato ad un determinato valore."
      ],
      "metadata": {
        "id": "BuvVlfpPsUNU"
      }
    },
    {
      "cell_type": "code",
      "source": [
        "a = 3 #a è la variabile che ha valore 3\n",
        "b = 4 #b è la variabile che ha valore 2\n",
        "\n",
        "c = a + b #che valore ha c?"
      ],
      "metadata": {
        "id": "ja5krkhHsaLA"
      },
      "execution_count": null,
      "outputs": []
    },
    {
      "cell_type": "markdown",
      "source": [
        "Nota che, se la variabile viene eseguita, rimane in memoria. Quindi, ogni volta che richiamerai a, b o c avranno il valore che hai definito"
      ],
      "metadata": {
        "id": "hMKroqDktG-Q"
      }
    },
    {
      "cell_type": "code",
      "source": [
        "#Esercizio: stampa il valore di c con la funzione input"
      ],
      "metadata": {
        "id": "CKDZOS3ptTT6"
      },
      "execution_count": null,
      "outputs": []
    },
    {
      "cell_type": "code",
      "source": [
        "#Esercizio: cambia b in modo che c valga 7 e stampalo"
      ],
      "metadata": {
        "id": "JcXvOaCTtYUz"
      },
      "execution_count": null,
      "outputs": []
    },
    {
      "cell_type": "code",
      "source": [
        "print(a)\n",
        "print(b)"
      ],
      "metadata": {
        "id": "GZcLgNYptQjV"
      },
      "execution_count": null,
      "outputs": []
    },
    {
      "cell_type": "markdown",
      "source": [
        "Attenzione: se assegni due volte la variabile la **sovrascrivi**"
      ],
      "metadata": {
        "id": "VDPKqUd5YGpR"
      }
    },
    {
      "cell_type": "code",
      "source": [
        "a = 4\n",
        "a = 3\n",
        "\n",
        "print(a)"
      ],
      "metadata": {
        "id": "CGXItPXyYN2O"
      },
      "execution_count": null,
      "outputs": []
    },
    {
      "cell_type": "markdown",
      "source": [
        "Tra numeri possiamo fare diverse operazioni, come addizione, sottrazione, moltiplicazione, divisione, potenza e molte altre.\n"
      ],
      "metadata": {
        "id": "OxcFi98HsoOn"
      }
    },
    {
      "cell_type": "code",
      "source": [
        "a+b #il + indica la somma\n",
        "print(a+b)\n",
        "\n",
        "a-b #il - indica la sottrazione\n",
        "print(a-b)\n",
        "\n",
        "a*b #l'asterisco indica la moltiplicazione\n",
        "print(a*b)\n",
        "\n",
        "a/b #lo slash indica la divisione\n",
        "print(a/b)\n",
        "\n",
        "a**b #il doppio asterisco indica la potenza, con base la variabile a sinistra e esponente la variabile a destra\n",
        "print(a**b)\n",
        "\n",
        "a**4\n",
        "print(a**4)\n",
        "\n",
        "a//2 #il doppio slash restituisce il quoziente della divisione  (quoziente intero)\n",
        "print(a//2)\n",
        "\n",
        "a%2 #il simbolo percentuale restituisce il resto della divisione  (quoziente intero)\n",
        "print(a%2)"
      ],
      "metadata": {
        "id": "-tGVtkrqtiCx"
      },
      "execution_count": null,
      "outputs": []
    },
    {
      "cell_type": "markdown",
      "source": [
        "Possiamo anche inserire delle parentesi tonde per fare espressioni più complesse"
      ],
      "metadata": {
        "id": "iepLnuCHuJ9-"
      }
    },
    {
      "cell_type": "code",
      "source": [
        "print(a)\n",
        "print(b)"
      ],
      "metadata": {
        "id": "iacfLyA2Ccsa"
      },
      "execution_count": null,
      "outputs": []
    },
    {
      "cell_type": "code",
      "source": [
        "(a + b ) * (a - b)"
      ],
      "metadata": {
        "id": "y4BYKHqwuPZD"
      },
      "execution_count": null,
      "outputs": []
    },
    {
      "cell_type": "code",
      "source": [
        "a**2 - b**2"
      ],
      "metadata": {
        "id": "QvZtHasSCoWr"
      },
      "execution_count": null,
      "outputs": []
    },
    {
      "cell_type": "markdown",
      "source": [
        "Scrivilo come prodotto notevole\n",
        " $(a+b) * (a-b) ?$\n",
        " Vefica, usando le potenze, che restituisce lo stesso risultato"
      ],
      "metadata": {
        "id": "WkM4hmf9uj-G"
      }
    },
    {
      "cell_type": "code",
      "source": [
        "#Esempio\n",
        "p = 12\n",
        "answer = (p+7) * 6**2 % 107 #ho chiamata una nuova variabile chiamata \"answer\"\n",
        "print(answer)"
      ],
      "metadata": {
        "id": "JUMjyBqUN79p"
      },
      "execution_count": null,
      "outputs": []
    },
    {
      "cell_type": "markdown",
      "source": [
        "Possiamo anche definire più variabili assieme"
      ],
      "metadata": {
        "id": "4ZwQo6bqOHWI"
      }
    },
    {
      "cell_type": "code",
      "source": [
        "#Definiamo 3 variabili diverse\n",
        "x, y, z = 10, \"ciao\", 2\n",
        "print(y)"
      ],
      "metadata": {
        "id": "4HdSgYp9OJ8x"
      },
      "execution_count": null,
      "outputs": []
    },
    {
      "cell_type": "markdown",
      "source": [
        "##Data types"
      ],
      "metadata": {
        "id": "OUgRZutRQUvG"
      }
    },
    {
      "cell_type": "markdown",
      "source": [
        "Queste categorie prendono il nome di DATA TYPES.\n",
        "Abbiamo principalmente 4 tipi: \\\\\n",
        "- Int\n",
        "- Float\n",
        "- String\n",
        "- Boolean\n",
        "\n"
      ],
      "metadata": {
        "id": "_KVX-n3UrUWy"
      }
    },
    {
      "cell_type": "markdown",
      "source": [
        "Le variabili $a = 2$ e $b = 3$ sono dette di tipo *int* (int), che sta per interi (positivi o negativi).\n",
        "\n",
        "Le variabili $d = 1.5$ sono dette di tipo *float* (float), ovvero numeri decimali.\n",
        "\n",
        "Le variabili $e \\, = \\, \"ciao\" $ o $f = \"albero\"$ sono di tipo \"string\" (str), cioè sequenze di caratteri."
      ],
      "metadata": {
        "id": "VJzTD0rcvuvL"
      }
    },
    {
      "cell_type": "markdown",
      "source": [
        "Per verificare il tipo di variabile, si può usare la funzione *type()*"
      ],
      "metadata": {
        "id": "nuiXy--HwrKO"
      }
    },
    {
      "cell_type": "code",
      "source": [
        "print(type(a))\n",
        "print(type(b))\n",
        "print(type(a/b))\n",
        "print(type(\"ciao\"))"
      ],
      "metadata": {
        "id": "AaOo4THFwxlR"
      },
      "execution_count": null,
      "outputs": []
    },
    {
      "cell_type": "markdown",
      "source": [
        "Oltre alle operazioni tra numeri, si possono fare delle semi-operazioni anche con le stringhe, come per esempio la concatenazione"
      ],
      "metadata": {
        "id": "VycMnbeoxEDc"
      }
    },
    {
      "cell_type": "code",
      "source": [
        "nome = \"Giacomo\"\n",
        "cognome = \"Frigerio\"\n",
        "\n",
        "print(nome + cognome) #concatenazione di nome e cognome\n",
        "\n",
        "#nota bene che ora nome e cognome sono variabili, non servono le virgolette!\n",
        "#Se stampassimo print(\"nome\" + \"cognome\") cosa leggeremmo?"
      ],
      "metadata": {
        "id": "__Al9HiwxMAg"
      },
      "execution_count": null,
      "outputs": []
    },
    {
      "cell_type": "code",
      "source": [
        "print(nome*3)"
      ],
      "metadata": {
        "id": "TC7dPnC0Q-G0"
      },
      "execution_count": null,
      "outputs": []
    },
    {
      "cell_type": "code",
      "source": [
        "#Un esempio più complesso è il seguente\n",
        "\n",
        "name = \"Pierpaolo\"\n",
        "materia = \"Fisica\"\n",
        "\n",
        "print(\"Mi chiamo\", name, \"e insegno\", materia)\n",
        "#la virgola, dentro input, specifica più elementi che verranno stampati a fianco"
      ],
      "metadata": {
        "id": "_eaTXLOFxf8b"
      },
      "execution_count": null,
      "outputs": []
    },
    {
      "cell_type": "code",
      "source": [
        "#Esercizio: definisci le variabili nome, cognome, classe con i tuoi dati\n",
        "#e stampa una stringa come \"Ciao, mi chiamo Luigi Rossi e sono della classe 3D scientifico\""
      ],
      "metadata": {
        "id": "8YMeqJK3xtCa"
      },
      "execution_count": null,
      "outputs": []
    },
    {
      "cell_type": "markdown",
      "source": [
        "Possiamo anche stampare stringhe e testo, assieme, ad esempio"
      ],
      "metadata": {
        "id": "wJ74oKwdyWTg"
      }
    },
    {
      "cell_type": "code",
      "source": [
        "age = 50\n",
        "\n",
        "print(\"Ciao, mi chiamo Mario e ho\", age, \"anni, tra 10 anni avrò\", age + 10, \"anni\")"
      ],
      "metadata": {
        "id": "yonPYv5oybuv"
      },
      "execution_count": null,
      "outputs": []
    },
    {
      "cell_type": "markdown",
      "source": [
        "O creare una nuova stringa con concatenate"
      ],
      "metadata": {
        "id": "yAMKSUSmGGCk"
      }
    },
    {
      "cell_type": "code",
      "source": [
        "name = \"Giacomo\"\n",
        "saluto = \"Ciao, \" + name + \"!\"\n",
        "print(saluto)"
      ],
      "metadata": {
        "id": "oOGhFHFT87Ww"
      },
      "execution_count": null,
      "outputs": []
    },
    {
      "cell_type": "code",
      "source": [
        "#Esercizio: crea un esempio simile usando la concatenazione"
      ],
      "metadata": {
        "id": "igpNmyQEymcJ"
      },
      "execution_count": null,
      "outputs": []
    },
    {
      "cell_type": "markdown",
      "source": [
        "##La funzione input()"
      ],
      "metadata": {
        "id": "23DCveassKgY"
      }
    },
    {
      "cell_type": "markdown",
      "source": [
        "La funzione input permette all'utente di inserire il valore di una variabile.\n",
        "\n",
        "Puoi usarlo come:\n",
        "\n",
        "input(\"messaggio letto dall'utente\")"
      ],
      "metadata": {
        "id": "pt1tf1FgsPi_"
      }
    },
    {
      "cell_type": "code",
      "source": [
        "colore_preferito = input(\"Inserisci il tuo colore preferito: \")\n",
        "#abbiamo definito colore preferito una variabile scelta dall'utente\n",
        "\n",
        "\n",
        "print(\"Hai scelto il colore: \", colore_preferito)"
      ],
      "metadata": {
        "id": "_Pc2-l9a-EvC"
      },
      "execution_count": null,
      "outputs": []
    },
    {
      "cell_type": "markdown",
      "source": [
        "Ricorda che input restituisce sempre una stringa! Se vuoi inserire un valore, devi specificarlo con il tipo"
      ],
      "metadata": {
        "id": "egW8B8cfFcUO"
      }
    },
    {
      "cell_type": "code",
      "source": [
        "età = int(     input(\"Quanti anni hai? \")     ) ##Ho specificato che sto inserendo un intero come variabile età\n",
        "\n",
        "\n",
        "print(\"Hai\", età , \"anni\")"
      ],
      "metadata": {
        "id": "kenfhjdnFj3c"
      },
      "execution_count": null,
      "outputs": []
    },
    {
      "cell_type": "code",
      "source": [
        "#Esercizio: crea un codice che, inserita l'età con la funzione input, restituisca l'anno di nascita"
      ],
      "metadata": {
        "id": "V2JoWT86FueH"
      },
      "execution_count": null,
      "outputs": []
    },
    {
      "cell_type": "code",
      "source": [
        "#Esercizio: crea un codice in cui l'utente inserisce la sua altezza (in metri)\n",
        "#e questa viene stampata con un messaggio \"La tua altezza è *altezza*\""
      ],
      "metadata": {
        "id": "izu95s-DGmC4"
      },
      "execution_count": null,
      "outputs": []
    },
    {
      "cell_type": "markdown",
      "source": [
        "Ricorda che i numeri decimali sono definiti con il punto e non con la virgola, ovvero\n",
        "\n",
        "altezza = 1.72 (giusto!)\n",
        "\n",
        "altezza = 1,72 (errore!)"
      ],
      "metadata": {
        "id": "B9905zxCVJh1"
      }
    },
    {
      "cell_type": "markdown",
      "source": [
        "##Accedere alle lettere di una stringa"
      ],
      "metadata": {
        "id": "EKQW5dtyHbTp"
      }
    },
    {
      "cell_type": "markdown",
      "source": [
        "Le stringhe sono una collezione di lettere e possiamo accedere ad una specifica lettera di una stringa"
      ],
      "metadata": {
        "id": "wIEZQuhLHeHn"
      }
    },
    {
      "cell_type": "code",
      "source": [
        "parola = \"ciao\"\n",
        "\n",
        "#posso accedere alla prima lettera usando la dicitura\n",
        "\n",
        "print(parola[3])"
      ],
      "metadata": {
        "id": "qn9WdD11Hmzf"
      },
      "execution_count": null,
      "outputs": []
    },
    {
      "cell_type": "markdown",
      "source": [
        "**IMPORTANTE!**\n",
        "Ricorda che python *inizia a contare* dallo 0!"
      ],
      "metadata": {
        "id": "gRDECKeEH9m7"
      }
    },
    {
      "cell_type": "code",
      "source": [
        "#Esercizio : stampa la terza lettera della prola ciao"
      ],
      "metadata": {
        "id": "V8OVdQNaIFVb"
      },
      "execution_count": null,
      "outputs": []
    },
    {
      "cell_type": "code",
      "source": [
        "#Esercizio: stampa le ultime due lettere della parola ciao (tip: usa la concatenazione!)"
      ],
      "metadata": {
        "id": "4zSc3OyHIJml"
      },
      "execution_count": null,
      "outputs": []
    },
    {
      "cell_type": "markdown",
      "source": [
        "Puoi contare all'indietro inserendo il meno davanti"
      ],
      "metadata": {
        "id": "Nf1g2HfmfpqZ"
      }
    },
    {
      "cell_type": "code",
      "source": [
        "parola = \"matematica\"\n",
        "parola[-1]"
      ],
      "metadata": {
        "id": "WPhXcG0xfs3X"
      },
      "execution_count": null,
      "outputs": []
    },
    {
      "cell_type": "markdown",
      "source": [
        "##La funzione len()"
      ],
      "metadata": {
        "id": "_uT1RcwQIbFD"
      }
    },
    {
      "cell_type": "markdown",
      "source": [
        "Possiamo contare la lunghezza di una stringa usando la funzione *len()*"
      ],
      "metadata": {
        "id": "eMosuvQYIexi"
      }
    },
    {
      "cell_type": "code",
      "source": [
        "parola = \"ciao \"\n",
        "len(parola)"
      ],
      "metadata": {
        "id": "27-seDcfIc5-"
      },
      "execution_count": null,
      "outputs": []
    },
    {
      "cell_type": "markdown",
      "source": [
        "Ricorda che ora parola è una variabile!\n",
        "\n",
        "Cosa avremmo ottenuto come output se avessimo usato len(\"parola\") ?"
      ],
      "metadata": {
        "id": "zfAR8zrdJIhP"
      }
    },
    {
      "cell_type": "code",
      "source": [
        "len(\"parola\")"
      ],
      "metadata": {
        "id": "5XpMOBF9Onka"
      },
      "execution_count": null,
      "outputs": []
    },
    {
      "cell_type": "code",
      "source": [
        "#Esercizio: crea un codice in cui l'utente inserisce una parola e come output gli viene restituita la lunghezza della parola"
      ],
      "metadata": {
        "id": "NzYLnyt2Ip0J"
      },
      "execution_count": null,
      "outputs": []
    },
    {
      "cell_type": "markdown",
      "source": [
        "##Operazioni su stringhe avanzate"
      ],
      "metadata": {
        "id": "tw1_8EdWY8wB"
      }
    },
    {
      "cell_type": "markdown",
      "source": [
        "Se inserisci una lunga stringa, come \"Ciao, questo è il corso di coding\" puoi selezionare solo una parte della stringa."
      ],
      "metadata": {
        "id": "iLTHCKgQY_N5"
      }
    },
    {
      "cell_type": "code",
      "source": [
        "#Esempio: selezioniamo solo la parte di stringa che inizia con \"questo\"\n",
        "stringa= \"Ciao, questo è il corso di coding\"\n",
        "#La lunghezza della stringa è\n",
        "print(len(stringa))"
      ],
      "metadata": {
        "id": "qkQhnjjAZTEa"
      },
      "execution_count": null,
      "outputs": []
    },
    {
      "cell_type": "code",
      "source": [
        "#Vediamo che la q, di questo, è il sesto elemento della stringa\n",
        "#C = 0 , i = 1, a = 2, o = 3, ,=4 , =5\n",
        "#anche lo spazio viene inteso come un elemento della stringa!\n",
        "\n",
        "#per selezionare tutta la stringa a partire dal sesto elemento, possiamo scrivere\n",
        "print(stringa[6:]) #ricorda che python inizia a contare dallo 0"
      ],
      "metadata": {
        "id": "oe5JQceQZkwj"
      },
      "execution_count": null,
      "outputs": []
    },
    {
      "cell_type": "code",
      "source": [
        "print(stringa[:15])"
      ],
      "metadata": {
        "id": "quxi_XZSQCI_"
      },
      "execution_count": null,
      "outputs": []
    },
    {
      "cell_type": "markdown",
      "source": [
        "Il simbolo : significa dall'elemento 5 **fino alla fine**"
      ],
      "metadata": {
        "id": "Fm4SFcXyZ-61"
      }
    },
    {
      "cell_type": "code",
      "source": [
        "#Esercizio: stampa la parte di stringa che contiene solo \"il corso di coding\""
      ],
      "metadata": {
        "id": "iFSzXuNUaFlv"
      },
      "execution_count": null,
      "outputs": []
    },
    {
      "cell_type": "markdown",
      "source": [
        "#Funzioni definite dall'utente"
      ],
      "metadata": {
        "id": "K7YPR7-_bbWo"
      }
    },
    {
      "cell_type": "markdown",
      "source": [
        "Oltre ad usare funzioni già definite dentro python (o in alcuni pacchetti, scopriremo tra poco cosa è un pacchetto) possiamo definire delle funzioni noi stessi"
      ],
      "metadata": {
        "id": "bx864TWlbet0"
      }
    },
    {
      "cell_type": "markdown",
      "source": [
        "###Esempio: funzione che restituisce il numero consecutivo"
      ],
      "metadata": {
        "id": "YFBYhZ0Rbopk"
      }
    },
    {
      "cell_type": "code",
      "source": [
        "def consecutivo(x):\n",
        "#con l'ambiente def stiamo dicendo \"definisci una nuova funzione\"\n",
        "#consecutivo è il nome della nostra funzione, una volta definita possiamo chiamarla quando vogliamo\n",
        "#x è l'input di quella funzione (gli input possono essere più di uno)\n",
        " return x+1 #return dice cosa deve dare come output (risultato) la nostra funzione"
      ],
      "metadata": {
        "id": "E2d0IdXjbn_G"
      },
      "execution_count": null,
      "outputs": []
    },
    {
      "cell_type": "markdown",
      "source": [
        "Attenzione! Una cosa fondamentale in python è l'indentazione! Stiamo inserendo uno spazio prima di return, perché deve essere indentato dentro def"
      ],
      "metadata": {
        "id": "SL5FT8Q4cNFd"
      }
    },
    {
      "cell_type": "markdown",
      "source": [
        "Proviamo ora a usare la nostra nuova funzione"
      ],
      "metadata": {
        "id": "b-sNqw4KcZGH"
      }
    },
    {
      "cell_type": "code",
      "source": [
        "print(consecutivo(3))"
      ],
      "metadata": {
        "id": "tvTSSSx8ciMJ"
      },
      "execution_count": null,
      "outputs": []
    },
    {
      "cell_type": "markdown",
      "source": [
        "###Esempio: funzione che restituisce il quadrato del triplo di un numero"
      ],
      "metadata": {
        "id": "SIU0yjt9ctZS"
      }
    },
    {
      "cell_type": "markdown",
      "source": [
        "Il quadrato del triplo di un numero x è $(3x)^2$"
      ],
      "metadata": {
        "id": "PwJHuC7Uc19b"
      }
    },
    {
      "cell_type": "code",
      "source": [
        "def funzione(x):\n",
        "  return (3*x)**2\n",
        "\n",
        "print(funzione(4))"
      ],
      "metadata": {
        "id": "t6jFV1gwc1u7"
      },
      "execution_count": null,
      "outputs": []
    },
    {
      "cell_type": "markdown",
      "source": [
        "###Esempio: polinomio di terzo grado"
      ],
      "metadata": {
        "id": "4EXvtW04dLvv"
      }
    },
    {
      "cell_type": "markdown",
      "source": [
        "$$polinomio(x) = a + bx + cx^2 + dx^3 = 1 + 3*2 + 1*2^2$$"
      ],
      "metadata": {
        "id": "xCpgRwn5Rymr"
      }
    },
    {
      "cell_type": "code",
      "source": [
        "def poli3(x, a=0, b=0, c=0, d=0):\n",
        "#i valori di a,b,c vengono inizializzati a 0, quindi se non vengono specificati dall'utente di default valgono 0\n",
        "    polinomio = a + b*x + c*x**2 + d*x**3\n",
        "    return polinomio\n",
        "\n",
        "risultato = poli3(2, 1, 3, 1)\n",
        "print(risultato)"
      ],
      "metadata": {
        "id": "N-euuRYDdLcn"
      },
      "execution_count": null,
      "outputs": []
    },
    {
      "cell_type": "code",
      "source": [
        "#Esercizio: crea una funzione che restituisca il cubo di un numero"
      ],
      "metadata": {
        "id": "dGpZcAHken7O"
      },
      "execution_count": null,
      "outputs": []
    },
    {
      "cell_type": "code",
      "source": [
        "#Esercizio: crea una funzione che restituisce la lunghezza di una stringa"
      ],
      "metadata": {
        "id": "SHc5VsHQfUux"
      },
      "execution_count": null,
      "outputs": []
    },
    {
      "cell_type": "code",
      "source": [
        "#Esercizio: crea una funzione che concatena due stringhe"
      ],
      "metadata": {
        "id": "c3xSbkEufaCD"
      },
      "execution_count": null,
      "outputs": []
    },
    {
      "cell_type": "code",
      "source": [
        "#Esercizio: crea una funzione che restituisce la prima e l'ultima lettera di una stringa"
      ],
      "metadata": {
        "id": "93AWep_wfy-N"
      },
      "execution_count": null,
      "outputs": []
    },
    {
      "cell_type": "code",
      "source": [
        "#Esercizio: crea una funzione che calcoli il risultato di un polinomio di quinto grado"
      ],
      "metadata": {
        "id": "QmAtgv5tewWc"
      },
      "execution_count": null,
      "outputs": []
    },
    {
      "cell_type": "code",
      "source": [
        "#Esercizio: Crea un codice che, inserita la temperatura in gradi centigradi (Celsius) con la funzione input(),\n",
        "#restituisca la temperatura in Fahreneit (puoi cercare la formula su google!)"
      ],
      "metadata": {
        "id": "P9L2YpYvW8Bu"
      },
      "execution_count": null,
      "outputs": []
    }
  ]
}