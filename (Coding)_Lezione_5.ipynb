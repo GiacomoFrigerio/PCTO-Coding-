{
  "nbformat": 4,
  "nbformat_minor": 0,
  "metadata": {
    "colab": {
      "provenance": [],
      "collapsed_sections": [
        "Dlsdthfn_vgE",
        "uBOP0dAu_576",
        "hcWyBQnV_1zW",
        "_tUECUmPVLeB",
        "Uw-Hk1JWtUEx",
        "sLLWFMaRcLBF"
      ]
    },
    "kernelspec": {
      "name": "python3",
      "display_name": "Python 3"
    },
    "language_info": {
      "name": "python"
    }
  },
  "cells": [
    {
      "cell_type": "markdown",
      "source": [
        "##Importare informazioni URL (Website) - Esempio: METEO"
      ],
      "metadata": {
        "id": "Dlsdthfn_vgE"
      }
    },
    {
      "cell_type": "markdown",
      "source": [
        "Possiamo far interagire python con informazioni raccolte da internet. Un esempio è il meteo."
      ],
      "metadata": {
        "id": "Ee8dGw6r9Kk4"
      }
    },
    {
      "cell_type": "code",
      "source": [
        "import requests"
      ],
      "metadata": {
        "id": "1qIg0-4e9Zx_"
      },
      "execution_count": null,
      "outputs": []
    },
    {
      "cell_type": "markdown",
      "source": [
        "Abbiamo importato il pacchetto requests. Questo ci permette di interagire con pagine web (più precisamente, per effettuare richieste HTTP)"
      ],
      "metadata": {
        "id": "DtBO_iCe9aPy"
      }
    },
    {
      "cell_type": "code",
      "execution_count": null,
      "metadata": {
        "id": "y2MLpjuN9Ib_"
      },
      "outputs": [],
      "source": [
        "#Creiamo una funzione per determinare il meteo in una determinata città\n",
        "def get_weather(city):\n",
        "    url = f\"https://wttr.in/{city}?format=%C+%t\"\n",
        "    response = requests.get(url)\n",
        "\n",
        "    #verifichiamo che la richiesta sia andata a buon fine, altrimenti stampiamo \"errore\".\n",
        "    if response.status_code == 200:\n",
        "        print(f\"Weather in {city}: {response.text}\")\n",
        "    else:\n",
        "        print(\"Could not retrieve weather data. Try again later.\")\n",
        "\n",
        "city = input(\"Enter city name: \")\n",
        "get_weather(city)"
      ]
    },
    {
      "cell_type": "markdown",
      "source": [
        "##Esempio: Quiz game"
      ],
      "metadata": {
        "id": "uBOP0dAu_576"
      }
    },
    {
      "cell_type": "code",
      "source": [
        "import random\n",
        "\n",
        "def quiz_game():\n",
        "    questions = {\n",
        "        \"Qual è la capitale della Francia?\": \"Parigi\",\n",
        "        \"Quanto fa 5 + 7?\": \"12\",\n",
        "        \"Che pianeta è conosciuto come il pianeta rosso?\": \"Marte\",\n",
        "        \"Qual è il più grande oceano sulla terra?\": \"Pacifico\",\n",
        "        \"Chi ha scritto 'Amleto'?\": \"Shakespeare\"\n",
        "    }\n",
        "    score = 0\n",
        "\n",
        "    for question, answer in questions.items():\n",
        "        user_answer = input(question + \" \").strip()\n",
        "        if user_answer.lower() == answer.lower():\n",
        "            print(\"Giusto!\")\n",
        "            score += 1\n",
        "        else:\n",
        "            print(f\"Sbagliato! La risposta corretta era {answer}.\")\n",
        "\n",
        "    print(f\"Game Over! Il tuo punteggio finale è {score}/{len(questions)}\")"
      ],
      "metadata": {
        "id": "QTL5lyRk_7fm"
      },
      "execution_count": null,
      "outputs": []
    },
    {
      "cell_type": "markdown",
      "source": [
        "Eseguiamo il codice"
      ],
      "metadata": {
        "id": "Bcno6d_IAJTG"
      }
    },
    {
      "cell_type": "code",
      "source": [
        "quiz_game()"
      ],
      "metadata": {
        "id": "kxxtgnHtAJAS"
      },
      "execution_count": null,
      "outputs": []
    },
    {
      "cell_type": "markdown",
      "source": [
        "Esercizio: prova ad estendere il codice, aggiungendo, per esempio, un punteggio diverso in base alla difficoltà della domanda, un sistema per mescolare l'ordine delle domande, etc.."
      ],
      "metadata": {
        "id": "ncBe1Jl8rsWk"
      }
    },
    {
      "cell_type": "markdown",
      "source": [
        "##Esempio: Hangman game (l'impiccato)"
      ],
      "metadata": {
        "id": "hcWyBQnV_1zW"
      }
    },
    {
      "cell_type": "code",
      "source": [
        "def hangman_game():\n",
        "    words = [\"python\", \"computer\", \"programma\"] #aggiungi qui le tue parole\n",
        "    word = random.choice(words)\n",
        "    guessed = set()\n",
        "    attempts = 6\n",
        "\n",
        "    print(\"Benvenuto al gioco dell'impiccato!\")\n",
        "    while attempts > 0:\n",
        "        display_word = \" \".join([letter if letter in guessed else \"_\" for letter in word])\n",
        "        print(f\"Word: {display_word}\")\n",
        "\n",
        "        guess = input(\"Indovina una lettera: \").lower()\n",
        "        if guess in guessed:\n",
        "            print(\"Hai già indovinato questa lettera!\")\n",
        "        elif guess in word:\n",
        "            guessed.add(guess)\n",
        "            print(\"Giusto!\")\n",
        "        else:\n",
        "            attempts -= 1\n",
        "            print(f\"Sbagliato! Hai ancora {attempts} tentativi.\")\n",
        "\n",
        "        if all(letter in guessed for letter in word):\n",
        "            print(f\"Congratulazioni! Hai indovinato la parola: {word}\")\n",
        "            break\n",
        "    else:\n",
        "        print(f\"Game Over! La parola era: {word}\")\n",
        "\n"
      ],
      "metadata": {
        "id": "7Qj5imSg_9V5"
      },
      "execution_count": null,
      "outputs": []
    },
    {
      "cell_type": "code",
      "source": [
        "hangman_game()"
      ],
      "metadata": {
        "id": "-bXrRnZVAHQF"
      },
      "execution_count": null,
      "outputs": []
    },
    {
      "cell_type": "markdown",
      "source": [
        "##Esercizio (calcola aree)"
      ],
      "metadata": {
        "id": "_tUECUmPVLeB"
      }
    },
    {
      "cell_type": "markdown",
      "source": [
        "Crea un programma che calcola l'area di una figura geometrica scelta dall'utente (es. triangolo, trapezio, rettangolo, quadrato), inserite le dimensioni (con la specifica unità di misura)."
      ],
      "metadata": {
        "id": "_6Wu3HYUU72P"
      }
    },
    {
      "cell_type": "markdown",
      "source": [
        "###Soluzione"
      ],
      "metadata": {
        "id": "Uw-Hk1JWtUEx"
      }
    },
    {
      "cell_type": "code",
      "source": [
        "def CalcolaAree():\n",
        "  figure = [\"trapezio\", \"rettangolo\", \"quadrato\", \"triangolo\", \"cerchio\"]\n",
        "  figura_scelta = input(\"Inserisci la figura di cui calcolare l'area, tra le seguenti (trapezio, rettangolo, quadrato, triangolo, trapezio, cerchio)\").lower()\n",
        "  if figura_scelta in figure:\n",
        "    print(\"Hai scelto la figura:\", figura_scelta)\n",
        "    if figura_scelta == \"quadrato\":\n",
        "       lato = float(input(f\"Inserisci il lato del {figura_scelta}: \"))\n",
        "       print(\"L'area del\", figura_scelta, \" è \", lato**2)\n",
        "    if figura_scelta == \"rettangolo\":\n",
        "       base = float(input(f\"Inserisci la base del {figura_scelta} \"))\n",
        "       altezza = float(input(f\"Inserisci l'altezza del {figura_scelta} \"))\n",
        "       print(\"L'area del\", figura_scelta, \" è \", base*altezza)\n",
        "    if figura_scelta == \"triangolo\":\n",
        "       base = float(input(f\"Inserisci la base del {figura_scelta} \"))\n",
        "       altezza = float(input(f\"Inserisci l'altezza del {figura_scelta} \"))\n",
        "       print(\"L'area del\", figura_scelta, \" è \", base*altezza/2)\n",
        "    if figura_scelta == \"cerchio\":\n",
        "       raggio = float(input(f\"Inserisci il raggio del {figura_scelta} \"))\n",
        "       print(\"L'area del\", figura_scelta, \" è \", 3.14 * raggio**2)\n",
        "    if figura_scelta == \"trapezio\":\n",
        "       bmag = float(input(f\"Inserisci la base maggiore del {figura_scelta} \"))\n",
        "       bmin = float(input(f\"Inserisci la base minore del {figura_scelta} \"))\n",
        "       h = float(input(f\"Inserisci l'altezza del {figura_scelta} \"))\n",
        "       print(\"L'area del\", figura_scelta, \" è \", (bmag + bmin)*h/2)\n",
        "  else:\n",
        "    print(\"Scegli un'altra figura geometrica\")"
      ],
      "metadata": {
        "id": "oyNPMqRstT09"
      },
      "execution_count": 41,
      "outputs": []
    },
    {
      "cell_type": "code",
      "source": [
        "CalcolaAree()"
      ],
      "metadata": {
        "colab": {
          "base_uri": "https://localhost:8080/"
        },
        "id": "G3tMbeP4vPAq",
        "outputId": "8c217dae-b5cf-4494-ac41-4f90fcf9fe52"
      },
      "execution_count": 42,
      "outputs": [
        {
          "output_type": "stream",
          "name": "stdout",
          "text": [
            "Inserisci la figura di cui calcolare l'area, tra le seguenti (trapezio, rettangolo, quadrato, triangolo, trapezio, cerchio)quadrato\n",
            "Hai scelto la figura: quadrato\n",
            "Inserisci il lato del quadrato: 4\n",
            "L'area del quadrato  è  16.0\n"
          ]
        }
      ]
    },
    {
      "cell_type": "markdown",
      "source": [
        "##Esercizio: Registro di classe"
      ],
      "metadata": {
        "id": "sLLWFMaRcLBF"
      }
    },
    {
      "cell_type": "code",
      "source": [
        "studenti = {}\n",
        "\n",
        "def aggiungi_studente():\n",
        "    name = input(\"Inserisci il nome dello studente: \")\n",
        "    grades = input(\"Inserisci i voti (separati da una virgola): \").split(',')\n",
        "    grades = [float(grade) for grade in grades]\n",
        "    studenti[name] = grades\n",
        "\n",
        "def visualizza_voti_studente():\n",
        "    nome = input(\"Inserisci il nome dello studente per vedere i suoi voti: \")\n",
        "    if nome in studenti:\n",
        "        print(f\"Grades for {nome}: {studenti[nome]}\")\n",
        "    else:\n",
        "        print(f\"No record for student {nome}\")\n",
        "\n",
        "def calcola_media_classe():\n",
        "    total_grades = sum([sum(grades) for grades in studenti.values()])\n",
        "    total_count = sum([len(grades) for grades in studenti.values()])\n",
        "    if total_count == 0:\n",
        "        print(\"Nessuno studente trovato.\")\n",
        "    else:\n",
        "        print(f\"Media della classe: {total_grades / total_count:.2f}\")\n",
        "\n",
        "while True:\n",
        "    print(\"\\n(1) Add Student, (2) View Student Grades, (3) Calculate Class Average, (4) Exit\")\n",
        "    scelta = input(\"Choose an option: \")\n",
        "\n",
        "    if scelta == '1':\n",
        "        aggiungi_studente()\n",
        "    elif scelta == '2':\n",
        "        visualizza_voti_studente()\n",
        "    elif scelta == '3':\n",
        "        calcola_media_classe()\n",
        "    elif scelta == '4':\n",
        "        break\n",
        "    else:\n",
        "        print(\"Scelta non valida.\")"
      ],
      "metadata": {
        "id": "EUczvbc4WtLk"
      },
      "execution_count": null,
      "outputs": []
    },
    {
      "cell_type": "code",
      "source": [
        "#la funzione sum somma tutti gli elementi all'interno di una lista\n",
        "sum([1,2,3])"
      ],
      "metadata": {
        "id": "OvGsd2aCc72M"
      },
      "execution_count": null,
      "outputs": []
    },
    {
      "cell_type": "markdown",
      "source": [
        "Aggiungi nuove funzioni al codice, come, per esempio:\n",
        "- Aggiungi altre informazioni relative allo studente (età, sesso, etc)\n",
        "- Calcola la media di uno studente singolo\n",
        "- Inserisci la materia corrispondente al voto"
      ],
      "metadata": {
        "id": "HmK2kyVacOPF"
      }
    },
    {
      "cell_type": "markdown",
      "source": [
        "###Soluzione:"
      ],
      "metadata": {
        "id": "fZzInbe9kh5r"
      }
    },
    {
      "cell_type": "code",
      "source": [
        "studenti = {}\n",
        "\n",
        "def aggiungi_studente():\n",
        "    name = input(\"Inserisci nome studente: \")\n",
        "    eta = int(input(\"Inserisci età studente: \"))\n",
        "    sesso = input(\"Inserisci il sesso dello studente (M/F): \")\n",
        "\n",
        "    studenti[name] = {\n",
        "        'età': eta,\n",
        "        'sesso': sesso,\n",
        "        'voti': {}\n",
        "    }\n",
        "\n",
        "    aggiungi_voti(name)\n",
        "\n",
        "def aggiungi_voti(name):\n",
        "    while True:\n",
        "        materia = input(\"Inserisci materia (o inserisci 'fatto' per non aggiungere altri voti): \")\n",
        "        if materia.lower() == 'fatto':\n",
        "            break\n",
        "        grade = float(input(f\"Inserisci il voto per {materia}: \"))\n",
        "        studenti[name]['voti'][materia] = grade\n",
        "\n",
        "def vedi_info_studente():\n",
        "    name = input(\"Inserisci il nome dello studente per vederne le informazioni: \")\n",
        "    if name in studenti:\n",
        "        student = studenti[name]\n",
        "        print(f\"\\nNome: {name}\")\n",
        "        print(f\"Età: {student['età']}\")\n",
        "        print(f\"Sesso: {student['sesso']}\")\n",
        "        print(\"Voti:\")\n",
        "        for materia, grade in student['voti'].items():\n",
        "            print(f\"  {materia}: {grade}\")\n",
        "        avg_grade = calcola_media_studente(name)\n",
        "        if avg_grade is not None:\n",
        "            print(f\"Media dei voti: {avg_grade:.2f}\")\n",
        "    else:\n",
        "        print(f\"Nessun voto per lo studente {name}\")\n",
        "\n",
        "def calcola_media_studente(name):\n",
        "    if name in studenti and studenti[name]['voti']:\n",
        "        grades = studenti[name]['voti'].values()\n",
        "        return sum(grades) / len(grades)\n",
        "    else:\n",
        "        return None\n",
        "\n",
        "def calcola_media_classe():\n",
        "    total_grades = 0\n",
        "    total_count = 0\n",
        "    for student in studenti.values():\n",
        "        grades = student['voti'].values()\n",
        "        total_grades += sum(grades)\n",
        "        total_count += len(grades)\n",
        "    if total_count == 0:\n",
        "        print(\"Nessuno studente trovato.\")\n",
        "    else:\n",
        "        print(f\"Media della classe: {total_grades / total_count:.2f}\")\n",
        "\n",
        "while True:\n",
        "    print(\"\\n(1) Aggiungi studente, (2) Vedi informazioni studente, (3) Calcola la media della classe, (4) Esci\")\n",
        "    choice = input(\"Scegli un'opzione: \")\n",
        "\n",
        "    if choice == '1':\n",
        "        aggiungi_studente()\n",
        "    elif choice == '2':\n",
        "        vedi_info_studente()\n",
        "    elif choice == '3':\n",
        "        calcola_media_classe()\n",
        "    elif choice == '4':\n",
        "        break\n",
        "    else:\n",
        "        print(\"Scelta non valida.\")"
      ],
      "metadata": {
        "id": "ABihNrmFhzyL"
      },
      "execution_count": null,
      "outputs": []
    }
  ]
}