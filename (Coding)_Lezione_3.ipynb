{
  "nbformat": 4,
  "nbformat_minor": 0,
  "metadata": {
    "colab": {
      "provenance": []
    },
    "kernelspec": {
      "name": "python3",
      "display_name": "Python 3"
    },
    "language_info": {
      "name": "python"
    }
  },
  "cells": [
    {
      "cell_type": "markdown",
      "source": [
        "Ripassiamo il comando if."
      ],
      "metadata": {
        "id": "M4Et4-Na-_kO"
      }
    },
    {
      "cell_type": "markdown",
      "source": [
        "Ricordi la funzione che abbiamo definito per calcolare le soluzioni di una equazione di secondo grado?"
      ],
      "metadata": {
        "id": "yzQbsl___B90"
      }
    },
    {
      "cell_type": "code",
      "source": [
        "def eq2(a,b,c):\n",
        "  delta = b**2 - 4*a*c\n",
        "  sol1 = float( (- b + delta**0.5)/(2*a) )\n",
        "  sol2 = float( (- b + delta**0.5)/(2*a) )\n",
        "  return sol1, sol2"
      ],
      "metadata": {
        "id": "Kz5jw1dY_BWd"
      },
      "execution_count": null,
      "outputs": []
    },
    {
      "cell_type": "markdown",
      "source": [
        "Vediamo se funzione: inseriamo i valori 1, 2, -3."
      ],
      "metadata": {
        "id": "L6wPeU5h_xVD"
      }
    },
    {
      "cell_type": "code",
      "source": [
        "eq2(1,2,-3)"
      ],
      "metadata": {
        "id": "n_ROW77J_RuN"
      },
      "execution_count": null,
      "outputs": []
    },
    {
      "cell_type": "markdown",
      "source": [
        "Proviamo ora a eseguirla, inserendo i valori 1,2,3."
      ],
      "metadata": {
        "id": "Ain4XKFy_b92"
      }
    },
    {
      "cell_type": "code",
      "source": [
        "eq2(1,2,3)"
      ],
      "metadata": {
        "id": "vWgs3ocD_2pO"
      },
      "execution_count": null,
      "outputs": []
    },
    {
      "cell_type": "markdown",
      "source": [
        "Il risultato ci da errore. Come mai?"
      ],
      "metadata": {
        "id": "h2NaxkWP_f4S"
      }
    },
    {
      "cell_type": "code",
      "source": [
        "#Esercizio: Introduci delle condizioni if nella funzione data per evitare che dia un errore (ovvero, escludi i casi in cui l'equazione non si può risolvere (nell'insieme dei numeri reali))"
      ],
      "metadata": {
        "id": "S1Sugt_B_kK_"
      },
      "execution_count": null,
      "outputs": []
    },
    {
      "cell_type": "markdown",
      "source": [
        "#Cicli for e while, Pacchetti e Liste\n"
      ],
      "metadata": {
        "id": "mghzP33w2Dit"
      }
    },
    {
      "cell_type": "markdown",
      "source": [
        "##Ciclo **For**"
      ],
      "metadata": {
        "id": "WbzAqjRB2H4O"
      }
    },
    {
      "cell_type": "markdown",
      "source": [
        "Vediamo altri esempi riguardanti i cicli **for**.\n",
        "\n",
        "Per farlo, riprendiamo il semplice esempio della scorsa lezione"
      ],
      "metadata": {
        "id": "tKAwOWvn1uBi"
      }
    },
    {
      "cell_type": "code",
      "source": [
        "for i in range(5):\n",
        "  print(i)"
      ],
      "metadata": {
        "id": "ZIYTnNUY6gOM"
      },
      "execution_count": null,
      "outputs": []
    },
    {
      "cell_type": "markdown",
      "source": [
        "Possiamo vedere la *documentazione* della funzione range [qui](https://https://docs.python.org/3/library/stdtypes.html#range).\n",
        "\n",
        "La documentazione di una funzione ci spiega quali sono gli input e output di una determinata funzione, e che uso ha."
      ],
      "metadata": {
        "id": "D2uyKWkh6nFv"
      }
    },
    {
      "cell_type": "markdown",
      "source": [
        "Per vedere la documentazione direttamente dal terminale, possiamo usare il comando help(funzione), con *funzione* la funzione di cui vogliamo avere informazioni"
      ],
      "metadata": {
        "id": "BRsxUDFp7E8x"
      }
    },
    {
      "cell_type": "code",
      "source": [
        "help(range)"
      ],
      "metadata": {
        "id": "WsOsNSuN66d_"
      },
      "execution_count": null,
      "outputs": []
    },
    {
      "cell_type": "markdown",
      "source": [
        "In particolare, vediamo l'applicazione della funzione range in alcuni casi:"
      ],
      "metadata": {
        "id": "WcoYzUIf8_73"
      }
    },
    {
      "cell_type": "code",
      "source": [
        "print(list(range(10)))\n",
        "\n",
        "print(list(range(1, 11)))\n",
        "\n",
        "print(list(range(0, 30, 5)))\n",
        "\n",
        "print(list(range(0, 10, 3)))"
      ],
      "metadata": {
        "id": "mU0vmFns9EDD"
      },
      "execution_count": null,
      "outputs": []
    },
    {
      "cell_type": "markdown",
      "source": [
        "Usiamo ora il ciclo for per scrivere la tabellina di un determinato numero"
      ],
      "metadata": {
        "id": "Xien8L-1r0H7"
      }
    },
    {
      "cell_type": "code",
      "source": [
        "number = 3\n",
        "\n",
        "for i in range(1, 11):\n",
        "    print(f\"{number} x {i} = {number * i}\")\n",
        "    #print(number*i)\n",
        "\n",
        "#Attenzione: cosa fa la f all'interno del comando print?"
      ],
      "metadata": {
        "id": "P7rXVPdOr3Eh"
      },
      "execution_count": null,
      "outputs": []
    },
    {
      "cell_type": "code",
      "source": [
        "#Esercizio: prova a scrivere la tabellina ma fino a 20\n",
        "# (i.e. 3x1, 3x2, 3x3, ... , 3x19, 3x20)"
      ],
      "metadata": {
        "id": "-9fmCkgd9hKQ"
      },
      "execution_count": null,
      "outputs": []
    },
    {
      "cell_type": "markdown",
      "source": [
        "Oppure, possiamo calcolare il numero di vocali in una stringa"
      ],
      "metadata": {
        "id": "Ad1K0LHasMMI"
      }
    },
    {
      "cell_type": "code",
      "source": [
        "frase = \"Mi sto divertendo tantissimo\"\n",
        "vocali = \"aeiouAEIOU\"\n",
        "count = 0\n",
        "\n",
        "for char in frase: #stiamo dicendo: per ogni lettera all'interno di frase\n",
        "    if char in vocali: #se la lettera è una vocale\n",
        "        count += 1  #aggiungi 1 alla variabile count\n",
        "\n",
        "print(\"Numero di vocali:\", count)"
      ],
      "metadata": {
        "id": "LLBcDqvYsQY3"
      },
      "execution_count": null,
      "outputs": []
    },
    {
      "cell_type": "code",
      "source": [
        "#Esercizio: prova a fare la stessa cosa per le consonanti."
      ],
      "metadata": {
        "id": "43fd-MHFsfkV"
      },
      "execution_count": null,
      "outputs": []
    },
    {
      "cell_type": "code",
      "source": [
        "#Esercizio: fai la stessa cosa, ma contando contemporaneamente sia il numero di vocali sia il numero di consonanti"
      ],
      "metadata": {
        "id": "T9osXFNwLPSg"
      },
      "execution_count": null,
      "outputs": []
    },
    {
      "cell_type": "markdown",
      "metadata": {
        "id": "10032ab0"
      },
      "source": [
        "\n",
        "## Ciclo **While**\n",
        "\n",
        "Un ciclo **while** continua a eseguire il codice finché una condizione specificata rimane vera. Facciamo un esempio:\n"
      ]
    },
    {
      "cell_type": "code",
      "execution_count": null,
      "metadata": {
        "id": "c236bfc1"
      },
      "outputs": [],
      "source": [
        "x = 0\n",
        "while x < 5:\n",
        "    print(x)\n",
        "    x += 1"
      ]
    },
    {
      "cell_type": "markdown",
      "source": [
        "Possiamo per esempio chiedere ad un utente di inserire la password, finché non inserisce quella corretta"
      ],
      "metadata": {
        "id": "1QAkp8eIs1F8"
      }
    },
    {
      "cell_type": "code",
      "source": [
        "password = \"secret\"\n",
        "user_input = \"\"\n",
        "\n",
        "# Continua il loop finchè la condizione non è soddisfatta (ovvero user input = password)\n",
        "while user_input != password:\n",
        "    user_input = input(\"Enter the password: \")\n",
        "\n",
        "\n",
        "print(\"Correct password entered!\")"
      ],
      "metadata": {
        "id": "nsrt78JBs4-s"
      },
      "execution_count": null,
      "outputs": []
    },
    {
      "cell_type": "markdown",
      "source": [
        "Oppure fare un Count down"
      ],
      "metadata": {
        "id": "ISbA-bqYtLmD"
      }
    },
    {
      "cell_type": "code",
      "source": [
        "i = 10\n",
        "\n",
        "while i > 0:\n",
        "    print(i)\n",
        "    i -= 1 #ogni volta che il comando viene eseguito, sottraiamo 1 a i\n",
        "\n",
        "print(\"Bang!\")"
      ],
      "metadata": {
        "id": "PEMXxduatNaI"
      },
      "execution_count": null,
      "outputs": []
    },
    {
      "cell_type": "code",
      "source": [
        "secret_number = 80\n",
        "\n",
        "# La scelta viene inizializzata\n",
        "guess = None\n",
        "\n",
        "# Ciclo while finché non viene indovinata\n",
        "while guess != secret_number:\n",
        "    # Chiedi all'utente un numero\n",
        "    guess = int(input(\"Indovina un numero (tra 1 e 100): \"))\n",
        "\n",
        "    if guess < secret_number:\n",
        "        print(\"Troppo basso! Riprova.\")\n",
        "    elif guess > secret_number:\n",
        "        print(\"Troppo alto! Riprova.\")\n",
        "    else:\n",
        "        print(f\"Congratulazioni! Hai indovinato il numero {secret_number}.\")"
      ],
      "metadata": {
        "id": "Vkf0FIZPtxlN"
      },
      "execution_count": null,
      "outputs": []
    },
    {
      "cell_type": "markdown",
      "source": [
        "Possiamo rendere la cosa ancora più randomica inserendo un numero random.\n",
        "\n",
        "Per farlo, introduciamo un **pacchetto**. I pacchetti sono dei set di funzioni già definite. Possiamo vedere quali funzioni ci sono nel pacchetto cercando su internet"
      ],
      "metadata": {
        "id": "rWrpZN4WuGWE"
      }
    },
    {
      "cell_type": "code",
      "source": [
        "import random #importo il pacchetto random\n",
        "\n",
        "# Genera un numero random tra 1 e 10\n",
        "secret_number = random.randint(1, 100) #random.randint esegue la funzione randint nel pacchetto random\n",
        "                                      #la funzione randint estrae a caso un numero nel range dato (1,10)"
      ],
      "metadata": {
        "id": "8hUkf3q2AIbT"
      },
      "execution_count": null,
      "outputs": []
    },
    {
      "cell_type": "code",
      "source": [
        "help(random)"
      ],
      "metadata": {
        "id": "Hn1KjrT8PVYn"
      },
      "execution_count": null,
      "outputs": []
    },
    {
      "cell_type": "code",
      "source": [
        "#Se vogliamo capire cosa fa randint, usiamo la funzione help\n",
        "help(random.randint)"
      ],
      "metadata": {
        "id": "hU0yZ9sRAH1B"
      },
      "execution_count": null,
      "outputs": []
    },
    {
      "cell_type": "code",
      "source": [
        "#Assicurati, per eseguire questo codice, di aver eseguito il codice precedente (che include random e definisce secret_number)\n",
        "\n",
        "# La scelta viene inizializzata\n",
        "guess = None\n",
        "\n",
        "# Ciclo while finché non viene indovinata\n",
        "while guess != secret_number:\n",
        "    # Chiedi all'utente un numero\n",
        "    guess = int(input(\"Indovina un numero (tra 1 e 100): \"))\n",
        "\n",
        "    if guess < secret_number:\n",
        "        print(\"Troppo basso! Riprova.\")\n",
        "    elif guess > secret_number:\n",
        "        print(\"Troppo alto! Riprova.\")\n",
        "    else:\n",
        "        print(f\"Congratulazioni! Hai indovinato il numero {secret_number}.\")"
      ],
      "metadata": {
        "id": "eDkXM-UPuNFb"
      },
      "execution_count": null,
      "outputs": []
    },
    {
      "cell_type": "markdown",
      "source": [
        "##Liste"
      ],
      "metadata": {
        "id": "ZPuBrRvBGygt"
      }
    },
    {
      "cell_type": "markdown",
      "source": [
        "Le liste sono collezioni di dati *ordinate, modificabili, indicizzate e che permettono duplicati*."
      ],
      "metadata": {
        "id": "joKo0kGDG-wu"
      }
    },
    {
      "cell_type": "markdown",
      "source": [
        "Vediamo alcune applicazioni"
      ],
      "metadata": {
        "id": "8aeiBAWaHmOt"
      }
    },
    {
      "cell_type": "code",
      "source": [
        "#Creiamo una lista di alcune città\n",
        "lista = [\"New York\", \"Miami\", \"Chicago\"]"
      ],
      "metadata": {
        "id": "q0kwTl5vG6hM"
      },
      "execution_count": null,
      "outputs": []
    },
    {
      "cell_type": "markdown",
      "source": [
        "Possiamo accedere agli elementi di una lista scrivendo tra parentesi quadre l'indice (come per le stringhe)"
      ],
      "metadata": {
        "id": "NM8utV2OH9mz"
      }
    },
    {
      "cell_type": "code",
      "source": [
        "lista[0]"
      ],
      "metadata": {
        "id": "8npoDOmGH87J"
      },
      "execution_count": null,
      "outputs": []
    },
    {
      "cell_type": "code",
      "source": [
        "lista[1:]"
      ],
      "metadata": {
        "id": "4eroFRy9Ixdp"
      },
      "execution_count": null,
      "outputs": []
    },
    {
      "cell_type": "code",
      "source": [
        "lista[-1]"
      ],
      "metadata": {
        "id": "4A_1RZ_SIz6c"
      },
      "execution_count": null,
      "outputs": []
    },
    {
      "cell_type": "markdown",
      "source": [
        "O determinare la lunghezza di una lista, ovvero il numero di elementi al suo interno"
      ],
      "metadata": {
        "id": "yA2Y3CwMIFej"
      }
    },
    {
      "cell_type": "code",
      "source": [
        "len(lista)"
      ],
      "metadata": {
        "id": "VtV63MQaIHAB"
      },
      "execution_count": null,
      "outputs": []
    },
    {
      "cell_type": "markdown",
      "source": [
        "Una lista può essere composta da qualunque tipo di variabile, non solo stringhe"
      ],
      "metadata": {
        "id": "wm-gBM2sIV4t"
      }
    },
    {
      "cell_type": "code",
      "source": [
        "x = [1, 2, 4, 10]\n",
        "y = [1, 2, \"paolo\", \"luigi\", True]"
      ],
      "metadata": {
        "id": "u96PlXUDIahV"
      },
      "execution_count": null,
      "outputs": []
    },
    {
      "cell_type": "code",
      "source": [
        "#Esercizio: crea una lista con all'interno 5 frutti e stampa l'ultimo"
      ],
      "metadata": {
        "id": "OMVdVMqBPDUH"
      },
      "execution_count": null,
      "outputs": []
    },
    {
      "cell_type": "markdown",
      "source": [
        "Come detto, le liste sono modificabili, possiamo quindi cambiare un elemento all'interno della lista"
      ],
      "metadata": {
        "id": "TrYSMSUMJNKB"
      }
    },
    {
      "cell_type": "code",
      "source": [
        "print(x)"
      ],
      "metadata": {
        "id": "jrZGWV3ZJM9I"
      },
      "execution_count": null,
      "outputs": []
    },
    {
      "cell_type": "code",
      "source": [
        "x[3] = 1000\n",
        "print(x)"
      ],
      "metadata": {
        "id": "SHGuTFGIJUaP"
      },
      "execution_count": null,
      "outputs": []
    },
    {
      "cell_type": "markdown",
      "source": [
        "Possiamo inoltre aggiungere elementi ad una lista, usando *append*"
      ],
      "metadata": {
        "id": "kaW5JzN-Lw-o"
      }
    },
    {
      "cell_type": "code",
      "source": [
        "x.append(10)\n",
        "print(x)"
      ],
      "metadata": {
        "id": "8zC1REy1L0xd"
      },
      "execution_count": null,
      "outputs": []
    },
    {
      "cell_type": "markdown",
      "source": [
        "O inserire un elemento in una posizione specifica"
      ],
      "metadata": {
        "id": "3YyCdsw4MDWR"
      }
    },
    {
      "cell_type": "code",
      "source": [
        "x.insert(1, \"ciao\")\n",
        "print(x)"
      ],
      "metadata": {
        "id": "k4rq2VmYL-rE"
      },
      "execution_count": null,
      "outputs": []
    },
    {
      "cell_type": "code",
      "source": [
        "#Esercizio: definisci una lista vuota e crea un ciclo for che aggiunge ogni volta elementi alla lista"
      ],
      "metadata": {
        "id": "8CoOXmbSMHRs"
      },
      "execution_count": null,
      "outputs": []
    },
    {
      "cell_type": "markdown",
      "source": [
        "Possiamo anche aggiungere una lista ad un'altra lista, con *extend*"
      ],
      "metadata": {
        "id": "58ZPYy-sMspF"
      }
    },
    {
      "cell_type": "code",
      "source": [
        "x.extend(y)\n",
        "print(x)\n",
        "print(y)"
      ],
      "metadata": {
        "id": "zppl-g0aMsA5"
      },
      "execution_count": null,
      "outputs": []
    },
    {
      "cell_type": "markdown",
      "source": [
        "Possiamo anche rimuovere elementi in diversi modi."
      ],
      "metadata": {
        "id": "1ssl9QjuM_3J"
      }
    },
    {
      "cell_type": "code",
      "source": [
        "x.remove(\"luigi\") #eliminiamo l'elemento esplicitandolo\n",
        "print(x)"
      ],
      "metadata": {
        "id": "sAwblHO3NC0Z"
      },
      "execution_count": null,
      "outputs": []
    },
    {
      "cell_type": "code",
      "source": [
        "print(x)"
      ],
      "metadata": {
        "colab": {
          "base_uri": "https://localhost:8080/"
        },
        "id": "2D9yL5R0Xtxm",
        "outputId": "b6d9ca38-34c1-4d9b-b2c5-b496afe62c94"
      },
      "execution_count": null,
      "outputs": [
        {
          "output_type": "stream",
          "name": "stdout",
          "text": [
            "[1, 'ciao', 2, 4, 1000, 10, 1, 2, 'paolo', True]\n"
          ]
        }
      ]
    },
    {
      "cell_type": "code",
      "source": [
        "#specificando la posizione\n",
        "x.pop(2)\n",
        "print(x)"
      ],
      "metadata": {
        "id": "vMg8MNBYNVI2",
        "colab": {
          "base_uri": "https://localhost:8080/"
        },
        "outputId": "8b0c6037-89e3-47be-ffd9-842e30726251"
      },
      "execution_count": null,
      "outputs": [
        {
          "output_type": "stream",
          "name": "stdout",
          "text": [
            "[1, 'ciao']\n"
          ]
        }
      ]
    },
    {
      "cell_type": "markdown",
      "source": [
        "Possiamo anche eliminare elementi o tutta la lista usando *del*"
      ],
      "metadata": {
        "id": "BccRFFAtNd1K"
      }
    },
    {
      "cell_type": "code",
      "source": [
        "del x[0]\n",
        "print(x)"
      ],
      "metadata": {
        "id": "MLglLo2PNhsY",
        "colab": {
          "base_uri": "https://localhost:8080/"
        },
        "outputId": "1e67ea03-582b-4bc8-882f-20858b6dca9b"
      },
      "execution_count": null,
      "outputs": [
        {
          "output_type": "stream",
          "name": "stdout",
          "text": [
            "['ciao']\n"
          ]
        }
      ]
    },
    {
      "cell_type": "code",
      "source": [
        "del x\n",
        "print(x)\n",
        "#ci darà errore perché l'abbiamo eliminata"
      ],
      "metadata": {
        "id": "ed8bF5XrNj7X",
        "colab": {
          "base_uri": "https://localhost:8080/",
          "height": 176
        },
        "outputId": "c7638f73-8014-4ac2-a501-2ed1ff7b95a6"
      },
      "execution_count": null,
      "outputs": [
        {
          "output_type": "error",
          "ename": "NameError",
          "evalue": "name 'x' is not defined",
          "traceback": [
            "\u001b[0;31m---------------------------------------------------------------------------\u001b[0m",
            "\u001b[0;31mNameError\u001b[0m                                 Traceback (most recent call last)",
            "\u001b[0;32m<ipython-input-82-7c18daabe245>\u001b[0m in \u001b[0;36m<cell line: 0>\u001b[0;34m()\u001b[0m\n\u001b[1;32m      1\u001b[0m \u001b[0;32mdel\u001b[0m \u001b[0mx\u001b[0m\u001b[0;34m\u001b[0m\u001b[0;34m\u001b[0m\u001b[0m\n\u001b[0;32m----> 2\u001b[0;31m \u001b[0mprint\u001b[0m\u001b[0;34m(\u001b[0m\u001b[0mx\u001b[0m\u001b[0;34m)\u001b[0m\u001b[0;34m\u001b[0m\u001b[0;34m\u001b[0m\u001b[0m\n\u001b[0m\u001b[1;32m      3\u001b[0m \u001b[0;31m#ci darà errore perché l'abbiamo eliminata\u001b[0m\u001b[0;34m\u001b[0m\u001b[0;34m\u001b[0m\u001b[0m\n",
            "\u001b[0;31mNameError\u001b[0m: name 'x' is not defined"
          ]
        }
      ]
    },
    {
      "cell_type": "markdown",
      "source": [
        "Oppure possiamos scegliere di mantenere la lista, ma svuotarla"
      ],
      "metadata": {
        "id": "9wTVeO-XNu4D"
      }
    },
    {
      "cell_type": "code",
      "source": [
        "x = [1,2,3] #creo la lista\n",
        "print(x)\n",
        "\n",
        "x.clear() #svuoto la lista\n",
        "print(x)"
      ],
      "metadata": {
        "id": "fJp1fpCCNzB4",
        "colab": {
          "base_uri": "https://localhost:8080/"
        },
        "outputId": "8d6d1250-013e-4657-d52e-21db3505f8d1"
      },
      "execution_count": null,
      "outputs": [
        {
          "output_type": "stream",
          "name": "stdout",
          "text": [
            "[1, 2, 3]\n",
            "[]\n"
          ]
        }
      ]
    },
    {
      "cell_type": "code",
      "source": [
        "#Esercizio: sostituisci alla lista dei frutti il terzo elemento con \"kiwi\""
      ],
      "metadata": {
        "id": "M8eA6WglPGff"
      },
      "execution_count": null,
      "outputs": []
    },
    {
      "cell_type": "code",
      "source": [
        "#Esercizio: aggiungi alla lista il frutto \"ananas\""
      ],
      "metadata": {
        "id": "sMO5lx-nPQA8"
      },
      "execution_count": null,
      "outputs": []
    },
    {
      "cell_type": "code",
      "source": [
        "#Esercizio: elimina il primo frutto che hai inserito"
      ],
      "metadata": {
        "id": "4KtaEQNcPa7R"
      },
      "execution_count": null,
      "outputs": []
    },
    {
      "cell_type": "code",
      "source": [
        "#Esercizio: controlla se il frutto \"banana\" è nella tua lista (tip: comando in)"
      ],
      "metadata": {
        "id": "t5EqEWGJPfc8"
      },
      "execution_count": null,
      "outputs": []
    },
    {
      "cell_type": "markdown",
      "source": [
        "Possiamo usare le liste anche nei cicli, come ad esempio"
      ],
      "metadata": {
        "id": "dysFccXzOCN4"
      }
    },
    {
      "cell_type": "code",
      "source": [
        "a = [\"Milano\", \"Roma\", \"Pavia\", \"Torino\"]\n",
        "for città in a:\n",
        "  print(città)"
      ],
      "metadata": {
        "id": "Rwgg7v4lOFEs",
        "colab": {
          "base_uri": "https://localhost:8080/"
        },
        "outputId": "c862ccb5-8424-4fad-f1fd-408db3d25040"
      },
      "execution_count": null,
      "outputs": [
        {
          "output_type": "stream",
          "name": "stdout",
          "text": [
            "Milano\n",
            "Roma\n",
            "Pavia\n",
            "Torino\n"
          ]
        }
      ]
    },
    {
      "cell_type": "markdown",
      "source": [
        "Possiamo anche fare azioni più complesse, come ad esempio ordinare una lista (alfanumericamente)"
      ],
      "metadata": {
        "id": "fjdeZ0FxOdiw"
      }
    },
    {
      "cell_type": "code",
      "source": [
        "lista1 = [1,6,5,7,8]\n",
        "lista2 = [\"Luigi\", \"Antonio\", \"Benedetta\"]\n",
        "\n",
        "lista1.sort()\n",
        "lista2.sort()\n",
        "\n",
        "print(lista1, lista2)"
      ],
      "metadata": {
        "id": "GTFX86iCOiX8",
        "colab": {
          "base_uri": "https://localhost:8080/"
        },
        "outputId": "f49920f8-b9ad-4ce5-95ba-9224609d0d2e"
      },
      "execution_count": null,
      "outputs": [
        {
          "output_type": "stream",
          "name": "stdout",
          "text": [
            "[1, 5, 6, 7, 8] ['Antonio', 'Benedetta', 'Luigi']\n"
          ]
        }
      ]
    },
    {
      "cell_type": "markdown",
      "source": [
        "O ordinarla al contrario"
      ],
      "metadata": {
        "id": "DfL33-uNOwTC"
      }
    },
    {
      "cell_type": "code",
      "source": [
        "lista1.sort(reverse=True)\n",
        "print(lista1)"
      ],
      "metadata": {
        "id": "o6WYu4I0Ov1m",
        "colab": {
          "base_uri": "https://localhost:8080/"
        },
        "outputId": "783575fb-24a9-4e49-f59f-79f03f457906"
      },
      "execution_count": null,
      "outputs": [
        {
          "output_type": "stream",
          "name": "stdout",
          "text": [
            "[8, 7, 6, 5, 1]\n"
          ]
        }
      ]
    }
  ]
}